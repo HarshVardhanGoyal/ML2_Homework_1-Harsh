{
 "cells": [
  {
   "cell_type": "markdown",
   "metadata": {
    "id": "EaA1H2AHyVWQ"
   },
   "source": [
    "# ML-2: Trees, Model Interrogation and Bayesian Workflow\n",
    "# Homework 1: Harnessing data to help the heart!\n",
    "\n",
    "**ML-2 Cohort 1** <br>\n",
    "**Instructor: Dr. Rahul Dave**<br>\n",
    "**Max Score: 100** <br>"
   ]
  },
  {
   "cell_type": "markdown",
   "metadata": {
    "id": "qkRlyqZTz4CJ"
   },
   "source": [
    "#### **Name of people who have worked on this homework:**"
   ]
  },
  {
   "cell_type": "markdown",
   "metadata": {
    "id": "vQSvK4tZ3ias"
   },
   "source": [
    "## Table of Contents "
   ]
  },
  {
   "cell_type": "markdown",
   "metadata": {
    "id": "llCqCNUTz7wG"
   },
   "source": [
    "* HW-1: Harnessing data to help the heart!\n",
    "  * Instructions\n",
    "  * Learning Goals\n",
    "  * Loading the DataFrame\n",
    "  * Q1: Exploratory Data Analysis (EDA and Data Pre-Preprocessing) **(10 marks)**\n",
    "    * 1.1 Understanding the data\n",
    "    * 1.2 Data Pre-processing\n",
    "      * 1.2.1 Split the data\n",
    "      * 1.2.2 Combine the X_train and y_train into one dataframe\n",
    "    * 1.3 Exploratory Data Analysis \n",
    "      * 1.3.1 Show the target distribution? - Number of people with no Heart Disease and Number of people with Heart Disease\n",
    "      * 1.3.2 How is age distributed? What is the most common age to get a heart disease? How is gender related to age?\n",
    "      * 1.3.3 Which has the most postive and negative correlation with the target variable?\n",
    "      * 1.3.4 Correlation between Blood Sugar level, Slope type and Thalessemia type with target\n",
    "      * 1.3.5 Plot the histogram for the all variables in train set\n",
    "    * 1.4 Defining Accuracy function\n",
    "  * Q2: Models **(80 marks)**\n",
    "    * 2.1 Baseline model - Logistic Regression \n",
    "    * 2.2 Decision Trees \n",
    "      * 2.2.1 Pruning \n",
    "        * 2.2.1.1 Pruning based on cost complexity parameter\n",
    "        * 2.2.1.2 Pruning based on max depth \n",
    "      * 2.2.2 Comparing Decision Tree Models \n",
    "    * 2.3 Bagging Tree Model \n",
    "    * 2.4 Random Forest \n",
    "      * 2.4.1 Permutance Importance \n",
    "      * 2.4.2 Out of Bag Score \n",
    "    * 2.5 Boosting \n",
    "    * 2.6 XGBoost \n",
    "  * Q3: Comparing the Models**(10 marks)**\n",
    "  * Bonus Question **(20 marks)**"
   ]
  },
  {
   "cell_type": "markdown",
   "metadata": {
    "id": "VxkV2910pFEw"
   },
   "source": [
    "## Instructions"
   ]
  },
  {
   "cell_type": "markdown",
   "metadata": {
    "id": "vhwik43rpHj_"
   },
   "source": [
    "- This homework should be submitted in pairs.\n",
    "\n",
    "- Ensure you and your partner together have submitted the homework only once. Multiple submissions of the same work will be penalised and will cost you 2 points.\n",
    "\n",
    "- Please restart the kernel and run the entire notebook again before you submit.\n",
    "\n",
    "- Running cells out of order is a common pitfall in Notebooks. To make sure your code works restart the kernel and run the whole notebook again before you submit. \n",
    "\n",
    "- To work on the homework, you will first need to fork the repository into your GitHub account and clone it to work on it on your local computer. To submit your homework, push your homework into the same GitHub and upload the link on edStem.\n",
    "\n",
    "- Submit the homework well before the given deadline. Submissions after the deadline will not be graded.\n",
    "\n",
    "- We have tried to include all the libraries you may need to do the assignment in the imports statement at the top of this notebook. We strongly suggest that you use those and not others as we may not be familiar with them.\n",
    "\n",
    "- Comment your code well. This would help the graders in case there is any issue with the notebook while running. It is important to remember that the graders will not troubleshoot your code. \n",
    "\n",
    "- Please use .head() when viewing data. Do not submit a notebook that is **excessively long**. \n",
    "\n",
    "- In questions that require code to answer, such as \"calculate the $R^2$\", do not just output the value from a cell. Write a `print()` function that includes a reference to the calculated value, **not hardcoded**. For example: \n",
    "```\n",
    "print(f'The R^2 is {R:.4f}')\n",
    "```\n",
    "- Your plots should include clear labels for the $x$ and $y$ axes as well as a descriptive title (\"MSE plot\" is not a descriptive title; \"95 % confidence interval of coefficients of polynomial degree 5\" is).\n",
    "\n",
    "- **Ensure you make appropriate plots for all the questions it is applicable to, regardless of it being explicitly asked for.**\n",
    "\n",
    "<hr style=\"height:2pt\">"
   ]
  },
  {
   "cell_type": "markdown",
   "metadata": {
    "id": "X0xOsPAh0NI7"
   },
   "source": [
    "## Learning Goals"
   ]
  },
  {
   "cell_type": "markdown",
   "metadata": {
    "id": "lTWGfd3i0QI6"
   },
   "source": [
    "We will look here into the practicalities of fitting classification trees, random forests, and boosted trees. These involve out-of-bound estimates and cross-validation, and how you might want to deal with hyperparameters in these models. \n",
    "\n",
    "The homework is divided into four main parts:\n",
    "1. Exploratory Data Analysis on the dataset and data-preprocessing\n",
    "2. Developing Baseline model using Logistic Regression\n",
    "3. Working with different tree models\n",
    "4. Comparing the models to check which performed better"
   ]
  },
  {
   "cell_type": "code",
   "execution_count": 1,
   "metadata": {
    "id": "2dXXAM_r03B_"
   },
   "outputs": [],
   "source": [
    "#importing libraries\n",
    "import numpy as np\n",
    "import pandas as pd\n",
    "import matplotlib.pyplot as plt\n",
    "import seaborn as sns\n",
    "%matplotlib inline\n",
    "from sklearn.model_selection import train_test_split\n",
    "from sklearn.preprocessing import StandardScaler\n",
    "from sklearn.tree import DecisionTreeClassifier\n",
    "from sklearn.ensemble import RandomForestClassifier\n",
    "from sklearn.metrics import accuracy_score\n",
    "from sklearn.pipeline import Pipeline\n",
    "from sklearn.model_selection import GridSearchCV\n",
    "from sklearn.ensemble import BaggingClassifier, AdaBoostClassifier\n",
    "from matplotlib import colors\n",
    "from sklearn.model_selection import cross_val_score \n",
    "from sklearn.metrics import confusion_matrix \n",
    "from sklearn.metrics import plot_confusion_matrix\n",
    "from sklearn.linear_model import LogisticRegression\n",
    "from sklearn import tree\n",
    "from sklearn.inspection import permutation_importance\n",
    "from sklearn.model_selection import RandomizedSearchCV"
   ]
  },
  {
   "cell_type": "markdown",
   "metadata": {
    "id": "K8Bnn7qe1ESn"
   },
   "source": [
    "## Load the dataframe"
   ]
  },
  {
   "cell_type": "code",
   "execution_count": 2,
   "metadata": {
    "id": "tHb-FlYv1IVI"
   },
   "outputs": [
    {
     "data": {
      "text/html": [
       "<div>\n",
       "<style scoped>\n",
       "    .dataframe tbody tr th:only-of-type {\n",
       "        vertical-align: middle;\n",
       "    }\n",
       "\n",
       "    .dataframe tbody tr th {\n",
       "        vertical-align: top;\n",
       "    }\n",
       "\n",
       "    .dataframe thead th {\n",
       "        text-align: right;\n",
       "    }\n",
       "</style>\n",
       "<table border=\"1\" class=\"dataframe\">\n",
       "  <thead>\n",
       "    <tr style=\"text-align: right;\">\n",
       "      <th></th>\n",
       "      <th>age</th>\n",
       "      <th>sex</th>\n",
       "      <th>cp</th>\n",
       "      <th>trestbps</th>\n",
       "      <th>chol</th>\n",
       "      <th>fbs</th>\n",
       "      <th>restecg</th>\n",
       "      <th>thalach</th>\n",
       "      <th>exang</th>\n",
       "      <th>oldpeak</th>\n",
       "      <th>slope</th>\n",
       "      <th>ca</th>\n",
       "      <th>thal</th>\n",
       "      <th>target</th>\n",
       "    </tr>\n",
       "  </thead>\n",
       "  <tbody>\n",
       "    <tr>\n",
       "      <th>0</th>\n",
       "      <td>63</td>\n",
       "      <td>1</td>\n",
       "      <td>3</td>\n",
       "      <td>145</td>\n",
       "      <td>233</td>\n",
       "      <td>1</td>\n",
       "      <td>0</td>\n",
       "      <td>150</td>\n",
       "      <td>0</td>\n",
       "      <td>2.3</td>\n",
       "      <td>0</td>\n",
       "      <td>0</td>\n",
       "      <td>1</td>\n",
       "      <td>1</td>\n",
       "    </tr>\n",
       "    <tr>\n",
       "      <th>1</th>\n",
       "      <td>37</td>\n",
       "      <td>1</td>\n",
       "      <td>2</td>\n",
       "      <td>130</td>\n",
       "      <td>250</td>\n",
       "      <td>0</td>\n",
       "      <td>1</td>\n",
       "      <td>187</td>\n",
       "      <td>0</td>\n",
       "      <td>3.5</td>\n",
       "      <td>0</td>\n",
       "      <td>0</td>\n",
       "      <td>2</td>\n",
       "      <td>1</td>\n",
       "    </tr>\n",
       "    <tr>\n",
       "      <th>2</th>\n",
       "      <td>41</td>\n",
       "      <td>0</td>\n",
       "      <td>1</td>\n",
       "      <td>130</td>\n",
       "      <td>204</td>\n",
       "      <td>0</td>\n",
       "      <td>0</td>\n",
       "      <td>172</td>\n",
       "      <td>0</td>\n",
       "      <td>1.4</td>\n",
       "      <td>2</td>\n",
       "      <td>0</td>\n",
       "      <td>2</td>\n",
       "      <td>1</td>\n",
       "    </tr>\n",
       "    <tr>\n",
       "      <th>3</th>\n",
       "      <td>56</td>\n",
       "      <td>1</td>\n",
       "      <td>1</td>\n",
       "      <td>120</td>\n",
       "      <td>236</td>\n",
       "      <td>0</td>\n",
       "      <td>1</td>\n",
       "      <td>178</td>\n",
       "      <td>0</td>\n",
       "      <td>0.8</td>\n",
       "      <td>2</td>\n",
       "      <td>0</td>\n",
       "      <td>2</td>\n",
       "      <td>1</td>\n",
       "    </tr>\n",
       "    <tr>\n",
       "      <th>4</th>\n",
       "      <td>57</td>\n",
       "      <td>0</td>\n",
       "      <td>0</td>\n",
       "      <td>120</td>\n",
       "      <td>354</td>\n",
       "      <td>0</td>\n",
       "      <td>1</td>\n",
       "      <td>163</td>\n",
       "      <td>1</td>\n",
       "      <td>0.6</td>\n",
       "      <td>2</td>\n",
       "      <td>0</td>\n",
       "      <td>2</td>\n",
       "      <td>1</td>\n",
       "    </tr>\n",
       "  </tbody>\n",
       "</table>\n",
       "</div>"
      ],
      "text/plain": [
       "   age  sex  cp  trestbps  chol  fbs  restecg  thalach  exang  oldpeak  slope  \\\n",
       "0   63    1   3       145   233    1        0      150      0      2.3      0   \n",
       "1   37    1   2       130   250    0        1      187      0      3.5      0   \n",
       "2   41    0   1       130   204    0        0      172      0      1.4      2   \n",
       "3   56    1   1       120   236    0        1      178      0      0.8      2   \n",
       "4   57    0   0       120   354    0        1      163      1      0.6      2   \n",
       "\n",
       "   ca  thal  target  \n",
       "0   0     1       1  \n",
       "1   0     2       1  \n",
       "2   0     2       1  \n",
       "3   0     2       1  \n",
       "4   0     2       1  "
      ]
     },
     "execution_count": 2,
     "metadata": {},
     "output_type": "execute_result"
    }
   ],
   "source": [
    "#import the dataset\n",
    "df = pd.read_csv('data/heart_data.csv') \n",
    "df.head()"
   ]
  },
  {
   "cell_type": "markdown",
   "metadata": {
    "id": "VOJ6cAUzzIyX"
   },
   "source": [
    "## Part 1: Exploratory Data Analysis and Data-Preprocessing **(10 marks)**\n",
    "\n"
   ]
  },
  {
   "cell_type": "markdown",
   "metadata": {
    "id": "w37B2HifeZjm"
   },
   "source": [
    "### 1.1 Understanding the data"
   ]
  },
  {
   "cell_type": "markdown",
   "metadata": {
    "id": "E5RWtWp7zXnV"
   },
   "source": [
    "**The data consist 303 individual data with 13 features and output label. Features are as follows**\n",
    "\n",
    "* **Age** : displays the age of the individual.\n",
    "* **Sex** : displays the gender of the individual using the following format:\n",
    "    * 1 = male \n",
    "    * 0 = female\n",
    "* **Chest-pain type (cp)**: displays the type of chest-pain experienced by the individual using the following format : \n",
    "    * 1 = typical angina \n",
    "    * 2 = atypical angina \n",
    "    * 3 = non — anginal pain \n",
    "    * 4 = asymptotic\n",
    "* **Resting Blood Pressure (trestbps)**: displays the resting blood pressure value of an individual in mmHg (unit)\n",
    "* **Serum Cholesterol (chol)**: displays the serum cholesterol in mg/dl (unit)\n",
    "* **Fasting Blood Sugar (fbs)**: compares the fasting blood sugar value of an individual with 120mg/dl. \n",
    "  * If fasting blood sugar > 120mg/dl then : 1 (true) \n",
    "  * If fasting blood sugar < 120mg/dl then : 0 (false)\n",
    "* **Resting ECG (restecg)**: displays resting electrocardiographic results \n",
    "  * 0 = normal\n",
    "  * 1 = having ST-T wave abnormality \n",
    "  * 2 = left ventricular hypertrophy\n",
    "*  **Max heart rate achieved (thalach)**: displays the max heart rate achieved by an individual.\n",
    "* **Exercise induced angina (exang)**: \n",
    "  * 1 = yes \n",
    "  * 0 = no\n",
    "* **ST depression induced by exercise relative to rest (oldpeak)**: displays the value which is integer or float.\n",
    "* **Peak exercise ST segment (slope)**: \n",
    "  * 1 = upsloping \n",
    "  * 2 = flat \n",
    "  * 3 = downsloping\n",
    "* **Number of major vessels (0–3) colored by fluoroscopy (ca)**: displays the value as an integer or float.\n",
    "* **Thal** : displays the thalassemia : \n",
    "  * 1 = normal \n",
    "  * 2 = fixed defect \n",
    "  * 3 = reversible defect\n",
    "* **(Output)Diagnosis of heart disease (target)**: Displays whether the individual is suffering from heart disease or not : \n",
    "  * 0 = absence \n",
    "  * 1 = presence"
   ]
  },
  {
   "cell_type": "code",
   "execution_count": 4,
   "metadata": {},
   "outputs": [],
   "source": [
    "from IPython.display import display, HTML\n",
    "\n",
    "def pretty_print(df):\n",
    "    return display( HTML( df.to_html().replace(\"\\\\n\",\"<br>\") ) )\n",
    "def tbl_report(tbl, cols=None, card=10):\n",
    "    print(\"Table Shape\", tbl.shape)\n",
    "    dtypes = tbl.dtypes\n",
    "    nulls = []\n",
    "    uniques = []\n",
    "    numuniques = []\n",
    "    vcs = []\n",
    "    for col in dtypes.index:\n",
    "        n = tbl[col].isnull().sum()\n",
    "        nulls.append(n)\n",
    "        strdtcol = str(dtypes[col])\n",
    "        #if strdtcol == 'object' or strdtcol[0:3] == 'int' or strdtcol[0:3] == 'int':\n",
    "        #print(strdtcol)\n",
    "        uniqs = tbl[col].unique()\n",
    "        uniquenums = uniqs.shape[0]\n",
    "        if uniquenums < card: # low cardinality\n",
    "            valcounts = pd.value_counts(tbl[col], dropna=False)\n",
    "            vc = \"\\n\".join([\"{}:{}\".format(k,v) for k, v in valcounts.items()])\n",
    "        else:\n",
    "            vc='NA'\n",
    "        uniques.append(uniqs)\n",
    "        numuniques.append(uniquenums)\n",
    "        vcs.append(vc)\n",
    "    nullseries = pd.Series(nulls, index=dtypes.index)\n",
    "    uniqueseries = pd.Series(uniques, index=dtypes.index)\n",
    "    numuniqueseries = pd.Series(numuniques, index=dtypes.index)\n",
    "    vcseries = pd.Series(vcs, index=dtypes.index)\n",
    "    df = pd.concat([dtypes, nullseries, uniqueseries, numuniqueseries, vcseries], axis=1)\n",
    "    df.columns = ['dtype', 'nulls', 'uniques', 'num_uniques', 'value_counts']\n",
    "    if cols:\n",
    "        return pretty_print(df[cols])\n",
    "    return pretty_print(df)\n"
   ]
  },
  {
   "cell_type": "code",
   "execution_count": 5,
   "metadata": {},
   "outputs": [
    {
     "name": "stdout",
     "output_type": "stream",
     "text": [
      "Table Shape (303, 14)\n"
     ]
    },
    {
     "data": {
      "text/html": [
       "<table border=\"1\" class=\"dataframe\">\n",
       "  <thead>\n",
       "    <tr style=\"text-align: right;\">\n",
       "      <th></th>\n",
       "      <th>dtype</th>\n",
       "      <th>nulls</th>\n",
       "      <th>uniques</th>\n",
       "      <th>num_uniques</th>\n",
       "      <th>value_counts</th>\n",
       "    </tr>\n",
       "  </thead>\n",
       "  <tbody>\n",
       "    <tr>\n",
       "      <th>age</th>\n",
       "      <td>int64</td>\n",
       "      <td>0</td>\n",
       "      <td>[63, 37, 41, 56, 57, 44, 52, 54, 48, 49, 64, 58, 50, 66, 43, 69, 59, 42, 61, 40, 71, 51, 65, 53, 46, 45, 39, 47, 62, 34, 35, 29, 55, 60, 67, 68, 74, 76, 70, 38, 77]</td>\n",
       "      <td>41</td>\n",
       "      <td>NA</td>\n",
       "    </tr>\n",
       "    <tr>\n",
       "      <th>sex</th>\n",
       "      <td>int64</td>\n",
       "      <td>0</td>\n",
       "      <td>[1, 0]</td>\n",
       "      <td>2</td>\n",
       "      <td>1:207<br>0:96</td>\n",
       "    </tr>\n",
       "    <tr>\n",
       "      <th>cp</th>\n",
       "      <td>int64</td>\n",
       "      <td>0</td>\n",
       "      <td>[3, 2, 1, 0]</td>\n",
       "      <td>4</td>\n",
       "      <td>0:143<br>2:87<br>1:50<br>3:23</td>\n",
       "    </tr>\n",
       "    <tr>\n",
       "      <th>trestbps</th>\n",
       "      <td>int64</td>\n",
       "      <td>0</td>\n",
       "      <td>[145, 130, 120, 140, 172, 150, 110, 135, 160, 105, 125, 142, 155, 104, 138, 128, 108, 134, 122, 115, 118, 100, 124, 94, 112, 102, 152, 101, 132, 148, 178, 129, 180, 136, 126, 106, 156, 170, 146, 117, 200, 165, 174, 192, 144, 123, 154, 114, 164]</td>\n",
       "      <td>49</td>\n",
       "      <td>NA</td>\n",
       "    </tr>\n",
       "    <tr>\n",
       "      <th>chol</th>\n",
       "      <td>int64</td>\n",
       "      <td>0</td>\n",
       "      <td>[233, 250, 204, 236, 354, 192, 294, 263, 199, 168, 239, 275, 266, 211, 283, 219, 340, 226, 247, 234, 243, 302, 212, 175, 417, 197, 198, 177, 273, 213, 304, 232, 269, 360, 308, 245, 208, 264, 321, 325, 235, 257, 216, 256, 231, 141, 252, 201, 222, 260, 182, 303, 265, 309, 186, 203, 183, 220, 209, 258, 227, 261, 221, 205, 240, 318, 298, 564, 277, 214, 248, 255, 207, 223, 288, 160, 394, 315, 246, 244, 270, 195, 196, 254, 126, 313, 262, 215, 193, 271, 268, 267, 210, 295, 306, 178, 242, 180, 228, 149, ...]</td>\n",
       "      <td>152</td>\n",
       "      <td>NA</td>\n",
       "    </tr>\n",
       "    <tr>\n",
       "      <th>fbs</th>\n",
       "      <td>int64</td>\n",
       "      <td>0</td>\n",
       "      <td>[1, 0]</td>\n",
       "      <td>2</td>\n",
       "      <td>0:258<br>1:45</td>\n",
       "    </tr>\n",
       "    <tr>\n",
       "      <th>restecg</th>\n",
       "      <td>int64</td>\n",
       "      <td>0</td>\n",
       "      <td>[0, 1, 2]</td>\n",
       "      <td>3</td>\n",
       "      <td>1:152<br>0:147<br>2:4</td>\n",
       "    </tr>\n",
       "    <tr>\n",
       "      <th>thalach</th>\n",
       "      <td>int64</td>\n",
       "      <td>0</td>\n",
       "      <td>[150, 187, 172, 178, 163, 148, 153, 173, 162, 174, 160, 139, 171, 144, 158, 114, 151, 161, 179, 137, 157, 123, 152, 168, 140, 188, 125, 170, 165, 142, 180, 143, 182, 156, 115, 149, 146, 175, 186, 185, 159, 130, 190, 132, 147, 154, 202, 166, 164, 184, 122, 169, 138, 111, 145, 194, 131, 133, 155, 167, 192, 121, 96, 126, 105, 181, 116, 108, 129, 120, 112, 128, 109, 113, 99, 177, 141, 136, 97, 127, 103, 124, 88, 195, 106, 95, 117, 71, 118, 134, 90]</td>\n",
       "      <td>91</td>\n",
       "      <td>NA</td>\n",
       "    </tr>\n",
       "    <tr>\n",
       "      <th>exang</th>\n",
       "      <td>int64</td>\n",
       "      <td>0</td>\n",
       "      <td>[0, 1]</td>\n",
       "      <td>2</td>\n",
       "      <td>0:204<br>1:99</td>\n",
       "    </tr>\n",
       "    <tr>\n",
       "      <th>oldpeak</th>\n",
       "      <td>float64</td>\n",
       "      <td>0</td>\n",
       "      <td>[2.3, 3.5, 1.4, 0.8, 0.6, 0.4, 1.3, 0.0, 0.5, 1.6, 1.2, 0.2, 1.8, 1.0, 2.6, 1.5, 3.0, 2.4, 0.1, 1.9, 4.2, 1.1, 2.0, 0.7, 0.3, 0.9, 3.6, 3.1, 3.2, 2.5, 2.2, 2.8, 3.4, 6.2, 4.0, 5.6, 2.9, 2.1, 3.8, 4.4]</td>\n",
       "      <td>40</td>\n",
       "      <td>NA</td>\n",
       "    </tr>\n",
       "    <tr>\n",
       "      <th>slope</th>\n",
       "      <td>int64</td>\n",
       "      <td>0</td>\n",
       "      <td>[0, 2, 1]</td>\n",
       "      <td>3</td>\n",
       "      <td>2:142<br>1:140<br>0:21</td>\n",
       "    </tr>\n",
       "    <tr>\n",
       "      <th>ca</th>\n",
       "      <td>int64</td>\n",
       "      <td>0</td>\n",
       "      <td>[0, 2, 1, 3, 4]</td>\n",
       "      <td>5</td>\n",
       "      <td>0:175<br>1:65<br>2:38<br>3:20<br>4:5</td>\n",
       "    </tr>\n",
       "    <tr>\n",
       "      <th>thal</th>\n",
       "      <td>int64</td>\n",
       "      <td>0</td>\n",
       "      <td>[1, 2, 3, 0]</td>\n",
       "      <td>4</td>\n",
       "      <td>2:166<br>3:117<br>1:18<br>0:2</td>\n",
       "    </tr>\n",
       "    <tr>\n",
       "      <th>target</th>\n",
       "      <td>int64</td>\n",
       "      <td>0</td>\n",
       "      <td>[1, 0]</td>\n",
       "      <td>2</td>\n",
       "      <td>1:165<br>0:138</td>\n",
       "    </tr>\n",
       "  </tbody>\n",
       "</table>"
      ],
      "text/plain": [
       "<IPython.core.display.HTML object>"
      ]
     },
     "metadata": {},
     "output_type": "display_data"
    }
   ],
   "source": [
    "tbl_report(df)"
   ]
  },
  {
   "cell_type": "markdown",
   "metadata": {
    "id": "N_sIHuKbmLfi"
   },
   "source": [
    "### 1.2 Data Preprocessing"
   ]
  },
  {
   "cell_type": "code",
   "execution_count": 6,
   "metadata": {},
   "outputs": [],
   "source": [
    "# cat = ['sex', 'cp', 'fbs', 'restecg','exang', 'slope', 'thal', 'target'] \n",
    "# df[cat] = df[cat].astype('category')"
   ]
  },
  {
   "cell_type": "code",
   "execution_count": 7,
   "metadata": {
    "id": "JLT4c8dCrFGh"
   },
   "outputs": [],
   "source": [
    "#set the random state as 42 throughout the homework\n",
    "rf=42"
   ]
  },
  {
   "cell_type": "markdown",
   "metadata": {
    "id": "joeUEaVG2F9i"
   },
   "source": [
    "#### 1.2.1 Splitting the data\n",
    "1. First split the data into input and output variables \n",
    "2. Then split the data into train and test, with **0.3 as the test size** and random state is set as rf(as defined previously)."
   ]
  },
  {
   "cell_type": "code",
   "execution_count": 8,
   "metadata": {
    "id": "iq-rCJg_-1bu"
   },
   "outputs": [],
   "source": [
    "#splitting the target and input variables\n",
    "#your code here\n",
    "X = df.drop(['target'], axis=1)\n",
    "y = df['target']"
   ]
  },
  {
   "cell_type": "code",
   "execution_count": 9,
   "metadata": {
    "id": "2AgDDZTwApSO"
   },
   "outputs": [],
   "source": [
    "#train test split - split with 0.3 as test size and random state is rf\n",
    "#your code here\n",
    "X_train, X_test, y_train, y_test = train_test_split(X, y, train_size=0.7, random_state=rf)\n"
   ]
  },
  {
   "cell_type": "markdown",
   "metadata": {
    "id": "wT3X6jFret28"
   },
   "source": [
    "#### 1.2.2 For us to do EDA on the train set, we will need to combine the X_train and y_train into one dataframe"
   ]
  },
  {
   "cell_type": "code",
   "execution_count": 10,
   "metadata": {
    "id": "Lp_lImBbMhsB"
   },
   "outputs": [
    {
     "data": {
      "text/html": [
       "<div>\n",
       "<style scoped>\n",
       "    .dataframe tbody tr th:only-of-type {\n",
       "        vertical-align: middle;\n",
       "    }\n",
       "\n",
       "    .dataframe tbody tr th {\n",
       "        vertical-align: top;\n",
       "    }\n",
       "\n",
       "    .dataframe thead th {\n",
       "        text-align: right;\n",
       "    }\n",
       "</style>\n",
       "<table border=\"1\" class=\"dataframe\">\n",
       "  <thead>\n",
       "    <tr style=\"text-align: right;\">\n",
       "      <th></th>\n",
       "      <th>age</th>\n",
       "      <th>sex</th>\n",
       "      <th>cp</th>\n",
       "      <th>trestbps</th>\n",
       "      <th>chol</th>\n",
       "      <th>fbs</th>\n",
       "      <th>restecg</th>\n",
       "      <th>thalach</th>\n",
       "      <th>exang</th>\n",
       "      <th>oldpeak</th>\n",
       "      <th>slope</th>\n",
       "      <th>ca</th>\n",
       "      <th>thal</th>\n",
       "      <th>target</th>\n",
       "    </tr>\n",
       "  </thead>\n",
       "  <tbody>\n",
       "    <tr>\n",
       "      <th>124</th>\n",
       "      <td>39</td>\n",
       "      <td>0</td>\n",
       "      <td>2</td>\n",
       "      <td>94</td>\n",
       "      <td>199</td>\n",
       "      <td>0</td>\n",
       "      <td>1</td>\n",
       "      <td>179</td>\n",
       "      <td>0</td>\n",
       "      <td>0.0</td>\n",
       "      <td>2</td>\n",
       "      <td>0</td>\n",
       "      <td>2</td>\n",
       "      <td>1</td>\n",
       "    </tr>\n",
       "    <tr>\n",
       "      <th>72</th>\n",
       "      <td>29</td>\n",
       "      <td>1</td>\n",
       "      <td>1</td>\n",
       "      <td>130</td>\n",
       "      <td>204</td>\n",
       "      <td>0</td>\n",
       "      <td>0</td>\n",
       "      <td>202</td>\n",
       "      <td>0</td>\n",
       "      <td>0.0</td>\n",
       "      <td>2</td>\n",
       "      <td>0</td>\n",
       "      <td>2</td>\n",
       "      <td>1</td>\n",
       "    </tr>\n",
       "    <tr>\n",
       "      <th>15</th>\n",
       "      <td>50</td>\n",
       "      <td>0</td>\n",
       "      <td>2</td>\n",
       "      <td>120</td>\n",
       "      <td>219</td>\n",
       "      <td>0</td>\n",
       "      <td>1</td>\n",
       "      <td>158</td>\n",
       "      <td>0</td>\n",
       "      <td>1.6</td>\n",
       "      <td>1</td>\n",
       "      <td>0</td>\n",
       "      <td>2</td>\n",
       "      <td>1</td>\n",
       "    </tr>\n",
       "    <tr>\n",
       "      <th>10</th>\n",
       "      <td>54</td>\n",
       "      <td>1</td>\n",
       "      <td>0</td>\n",
       "      <td>140</td>\n",
       "      <td>239</td>\n",
       "      <td>0</td>\n",
       "      <td>1</td>\n",
       "      <td>160</td>\n",
       "      <td>0</td>\n",
       "      <td>1.2</td>\n",
       "      <td>2</td>\n",
       "      <td>0</td>\n",
       "      <td>2</td>\n",
       "      <td>1</td>\n",
       "    </tr>\n",
       "    <tr>\n",
       "      <th>163</th>\n",
       "      <td>38</td>\n",
       "      <td>1</td>\n",
       "      <td>2</td>\n",
       "      <td>138</td>\n",
       "      <td>175</td>\n",
       "      <td>0</td>\n",
       "      <td>1</td>\n",
       "      <td>173</td>\n",
       "      <td>0</td>\n",
       "      <td>0.0</td>\n",
       "      <td>2</td>\n",
       "      <td>4</td>\n",
       "      <td>2</td>\n",
       "      <td>1</td>\n",
       "    </tr>\n",
       "    <tr>\n",
       "      <th>...</th>\n",
       "      <td>...</td>\n",
       "      <td>...</td>\n",
       "      <td>...</td>\n",
       "      <td>...</td>\n",
       "      <td>...</td>\n",
       "      <td>...</td>\n",
       "      <td>...</td>\n",
       "      <td>...</td>\n",
       "      <td>...</td>\n",
       "      <td>...</td>\n",
       "      <td>...</td>\n",
       "      <td>...</td>\n",
       "      <td>...</td>\n",
       "      <td>...</td>\n",
       "    </tr>\n",
       "    <tr>\n",
       "      <th>188</th>\n",
       "      <td>50</td>\n",
       "      <td>1</td>\n",
       "      <td>2</td>\n",
       "      <td>140</td>\n",
       "      <td>233</td>\n",
       "      <td>0</td>\n",
       "      <td>1</td>\n",
       "      <td>163</td>\n",
       "      <td>0</td>\n",
       "      <td>0.6</td>\n",
       "      <td>1</td>\n",
       "      <td>1</td>\n",
       "      <td>3</td>\n",
       "      <td>0</td>\n",
       "    </tr>\n",
       "    <tr>\n",
       "      <th>71</th>\n",
       "      <td>51</td>\n",
       "      <td>1</td>\n",
       "      <td>2</td>\n",
       "      <td>94</td>\n",
       "      <td>227</td>\n",
       "      <td>0</td>\n",
       "      <td>1</td>\n",
       "      <td>154</td>\n",
       "      <td>1</td>\n",
       "      <td>0.0</td>\n",
       "      <td>2</td>\n",
       "      <td>1</td>\n",
       "      <td>3</td>\n",
       "      <td>1</td>\n",
       "    </tr>\n",
       "    <tr>\n",
       "      <th>106</th>\n",
       "      <td>69</td>\n",
       "      <td>1</td>\n",
       "      <td>3</td>\n",
       "      <td>160</td>\n",
       "      <td>234</td>\n",
       "      <td>1</td>\n",
       "      <td>0</td>\n",
       "      <td>131</td>\n",
       "      <td>0</td>\n",
       "      <td>0.1</td>\n",
       "      <td>1</td>\n",
       "      <td>1</td>\n",
       "      <td>2</td>\n",
       "      <td>1</td>\n",
       "    </tr>\n",
       "    <tr>\n",
       "      <th>270</th>\n",
       "      <td>46</td>\n",
       "      <td>1</td>\n",
       "      <td>0</td>\n",
       "      <td>120</td>\n",
       "      <td>249</td>\n",
       "      <td>0</td>\n",
       "      <td>0</td>\n",
       "      <td>144</td>\n",
       "      <td>0</td>\n",
       "      <td>0.8</td>\n",
       "      <td>2</td>\n",
       "      <td>0</td>\n",
       "      <td>3</td>\n",
       "      <td>0</td>\n",
       "    </tr>\n",
       "    <tr>\n",
       "      <th>102</th>\n",
       "      <td>63</td>\n",
       "      <td>0</td>\n",
       "      <td>1</td>\n",
       "      <td>140</td>\n",
       "      <td>195</td>\n",
       "      <td>0</td>\n",
       "      <td>1</td>\n",
       "      <td>179</td>\n",
       "      <td>0</td>\n",
       "      <td>0.0</td>\n",
       "      <td>2</td>\n",
       "      <td>2</td>\n",
       "      <td>2</td>\n",
       "      <td>1</td>\n",
       "    </tr>\n",
       "  </tbody>\n",
       "</table>\n",
       "<p>212 rows × 14 columns</p>\n",
       "</div>"
      ],
      "text/plain": [
       "     age  sex  cp  trestbps  chol  fbs  restecg  thalach  exang  oldpeak  \\\n",
       "124   39    0   2        94   199    0        1      179      0      0.0   \n",
       "72    29    1   1       130   204    0        0      202      0      0.0   \n",
       "15    50    0   2       120   219    0        1      158      0      1.6   \n",
       "10    54    1   0       140   239    0        1      160      0      1.2   \n",
       "163   38    1   2       138   175    0        1      173      0      0.0   \n",
       "..   ...  ...  ..       ...   ...  ...      ...      ...    ...      ...   \n",
       "188   50    1   2       140   233    0        1      163      0      0.6   \n",
       "71    51    1   2        94   227    0        1      154      1      0.0   \n",
       "106   69    1   3       160   234    1        0      131      0      0.1   \n",
       "270   46    1   0       120   249    0        0      144      0      0.8   \n",
       "102   63    0   1       140   195    0        1      179      0      0.0   \n",
       "\n",
       "     slope  ca  thal  target  \n",
       "124      2   0     2       1  \n",
       "72       2   0     2       1  \n",
       "15       1   0     2       1  \n",
       "10       2   0     2       1  \n",
       "163      2   4     2       1  \n",
       "..     ...  ..   ...     ...  \n",
       "188      1   1     3       0  \n",
       "71       2   1     3       1  \n",
       "106      1   1     2       1  \n",
       "270      2   0     3       0  \n",
       "102      2   2     2       1  \n",
       "\n",
       "[212 rows x 14 columns]"
      ]
     },
     "execution_count": 10,
     "metadata": {},
     "output_type": "execute_result"
    }
   ],
   "source": [
    "#combining X_train and y_train into a single dataframe\n",
    "#your code here\n",
    "train_data = pd.concat([X_train, y_train], axis =1)\n",
    "train_data"
   ]
  },
  {
   "cell_type": "markdown",
   "metadata": {
    "id": "6QZV2RGN6ZB8"
   },
   "source": [
    "### 1.3 Exploratory Data Analysis\n"
   ]
  },
  {
   "cell_type": "markdown",
   "metadata": {
    "id": "fsgvjt95582f"
   },
   "source": [
    "**The most efficient way to interpret data and to find relations between the different variables is by Visualisation.**\n",
    " \n",
    "**Hence answer the following questions using appropriate visualisation tool(plotting).** "
   ]
  },
  {
   "cell_type": "code",
   "execution_count": 11,
   "metadata": {},
   "outputs": [
    {
     "name": "stdout",
     "output_type": "stream",
     "text": [
      "Table Shape (212, 14)\n"
     ]
    },
    {
     "data": {
      "text/html": [
       "<table border=\"1\" class=\"dataframe\">\n",
       "  <thead>\n",
       "    <tr style=\"text-align: right;\">\n",
       "      <th></th>\n",
       "      <th>dtype</th>\n",
       "      <th>nulls</th>\n",
       "      <th>uniques</th>\n",
       "      <th>num_uniques</th>\n",
       "      <th>value_counts</th>\n",
       "    </tr>\n",
       "  </thead>\n",
       "  <tbody>\n",
       "    <tr>\n",
       "      <th>age</th>\n",
       "      <td>int64</td>\n",
       "      <td>0</td>\n",
       "      <td>[39, 29, 50, 54, 38, 58, 52, 44, 64, 47, 45, 62, 65, 43, 63, 68, 67, 55, 59, 57, 56, 70, 61, 60, 74, 35, 51, 42, 41, 37, 53, 49, 46, 66, 48, 77, 34, 71, 69]</td>\n",
       "      <td>39</td>\n",
       "      <td>NA</td>\n",
       "    </tr>\n",
       "    <tr>\n",
       "      <th>sex</th>\n",
       "      <td>int64</td>\n",
       "      <td>0</td>\n",
       "      <td>[0, 1]</td>\n",
       "      <td>2</td>\n",
       "      <td>1:140<br>0:72</td>\n",
       "    </tr>\n",
       "    <tr>\n",
       "      <th>cp</th>\n",
       "      <td>int64</td>\n",
       "      <td>0</td>\n",
       "      <td>[2, 1, 0, 3]</td>\n",
       "      <td>4</td>\n",
       "      <td>0:96<br>2:67<br>1:33<br>3:16</td>\n",
       "    </tr>\n",
       "    <tr>\n",
       "      <th>trestbps</th>\n",
       "      <td>int64</td>\n",
       "      <td>0</td>\n",
       "      <td>[94, 130, 120, 140, 138, 108, 125, 150, 112, 114, 100, 124, 118, 128, 110, 134, 155, 126, 132, 136, 160, 123, 152, 122, 192, 180, 115, 135, 142, 170, 145, 148, 172, 146, 178, 156, 174, 164, 144, 101]</td>\n",
       "      <td>40</td>\n",
       "      <td>NA</td>\n",
       "    </tr>\n",
       "    <tr>\n",
       "      <th>chol</th>\n",
       "      <td>int64</td>\n",
       "      <td>0</td>\n",
       "      <td>[199, 204, 219, 239, 175, 197, 233, 220, 309, 232, 340, 318, 234, 244, 209, 177, 243, 187, 247, 290, 394, 230, 226, 277, 299, 205, 335, 256, 322, 260, 201, 253, 241, 229, 269, 282, 224, 295, 313, 284, 193, 315, 275, 286, 353, 330, 215, 240, 225, 303, 341, 213, 298, 283, 236, 192, 188, 235, 185, 217, 183, 274, 564, 254, 221, 266, 417, 326, 271, 281, 302, 307, 174, 245, 248, 178, 212, 304, 228, 246, 264, 261, 354, 268, 157, 293, 231, 186, 196, 258, 149, 211, 321, 308, 267, 319, 263, 278, 325, 360, ...]</td>\n",
       "      <td>130</td>\n",
       "      <td>NA</td>\n",
       "    </tr>\n",
       "    <tr>\n",
       "      <th>fbs</th>\n",
       "      <td>int64</td>\n",
       "      <td>0</td>\n",
       "      <td>[0, 1]</td>\n",
       "      <td>2</td>\n",
       "      <td>0:185<br>1:27</td>\n",
       "    </tr>\n",
       "    <tr>\n",
       "      <th>restecg</th>\n",
       "      <td>int64</td>\n",
       "      <td>0</td>\n",
       "      <td>[1, 0, 2]</td>\n",
       "      <td>3</td>\n",
       "      <td>1:109<br>0:100<br>2:3</td>\n",
       "    </tr>\n",
       "    <tr>\n",
       "      <th>thalach</th>\n",
       "      <td>int64</td>\n",
       "      <td>0</td>\n",
       "      <td>[179, 202, 158, 160, 173, 131, 147, 170, 165, 172, 143, 140, 156, 175, 162, 163, 120, 152, 144, 171, 153, 157, 169, 151, 125, 130, 142, 109, 123, 150, 121, 148, 133, 118, 108, 132, 114, 122, 136, 95, 178, 195, 174, 139, 155, 111, 182, 127, 103, 146, 180, 96, 181, 145, 168, 194, 138, 177, 141, 126, 188, 190, 112, 167, 97, 137, 154, 166, 117, 115, 187, 161, 129, 90, 88, 149, 106, 105]</td>\n",
       "      <td>78</td>\n",
       "      <td>NA</td>\n",
       "    </tr>\n",
       "    <tr>\n",
       "      <th>exang</th>\n",
       "      <td>int64</td>\n",
       "      <td>0</td>\n",
       "      <td>[0, 1]</td>\n",
       "      <td>2</td>\n",
       "      <td>0:144<br>1:68</td>\n",
       "    </tr>\n",
       "    <tr>\n",
       "      <th>oldpeak</th>\n",
       "      <td>float64</td>\n",
       "      <td>0</td>\n",
       "      <td>[0.0, 1.6, 1.2, 0.6, 0.1, 1.8, 4.4, 1.1, 0.4, 2.5, 4.0, 1.5, 1.0, 0.9, 2.0, 3.0, 2.4, 3.6, 0.8, 1.4, 0.2, 3.2, 1.9, 5.6, 2.8, 3.4, 2.6, 2.3, 2.2, 0.3, 3.8, 0.5, 2.9, 3.5, 3.1]</td>\n",
       "      <td>35</td>\n",
       "      <td>NA</td>\n",
       "    </tr>\n",
       "    <tr>\n",
       "      <th>slope</th>\n",
       "      <td>int64</td>\n",
       "      <td>0</td>\n",
       "      <td>[2, 1, 0]</td>\n",
       "      <td>3</td>\n",
       "      <td>2:102<br>1:96<br>0:14</td>\n",
       "    </tr>\n",
       "    <tr>\n",
       "      <th>ca</th>\n",
       "      <td>int64</td>\n",
       "      <td>0</td>\n",
       "      <td>[0, 4, 3, 1, 2]</td>\n",
       "      <td>5</td>\n",
       "      <td>0:129<br>1:47<br>2:20<br>3:15<br>4:1</td>\n",
       "    </tr>\n",
       "    <tr>\n",
       "      <th>thal</th>\n",
       "      <td>int64</td>\n",
       "      <td>0</td>\n",
       "      <td>[2, 3, 1, 0]</td>\n",
       "      <td>4</td>\n",
       "      <td>2:118<br>3:82<br>1:11<br>0:1</td>\n",
       "    </tr>\n",
       "    <tr>\n",
       "      <th>target</th>\n",
       "      <td>int64</td>\n",
       "      <td>0</td>\n",
       "      <td>[1, 0]</td>\n",
       "      <td>2</td>\n",
       "      <td>1:115<br>0:97</td>\n",
       "    </tr>\n",
       "  </tbody>\n",
       "</table>"
      ],
      "text/plain": [
       "<IPython.core.display.HTML object>"
      ]
     },
     "metadata": {},
     "output_type": "display_data"
    }
   ],
   "source": [
    "tbl_report(train_data)"
   ]
  },
  {
   "cell_type": "code",
   "execution_count": 12,
   "metadata": {},
   "outputs": [
    {
     "data": {
      "image/png": "[encoded data removed]",
      "text/plain": [
       "<Figure size 792x648 with 2 Axes>"
      ]
     },
     "metadata": {},
     "output_type": "display_data"
    }
   ],
   "source": [
    "corr_matrix = train_data.corr()\n",
    "\n",
    "\n",
    "#Visualizing the correlations using a Heat map.\n",
    "sns.set_theme(style=\"white\")\n",
    "mask = np.triu(np.ones_like(corr_matrix, dtype=bool)) #mask for omitting the upper triangle\n",
    "\n",
    "f, ax = plt.subplots(figsize=(11, 9))\n",
    "cmap = sns.diverging_palette(230, 20, as_cmap=True) #Generate a custom diverging colormap\n",
    "sns.heatmap(corr_matrix, mask=mask, cmap=cmap, vmax=.3, center=0,\n",
    "            square=True, linewidths=.5, cbar_kws={\"shrink\": .5}) #heat map construction with mask\n",
    "plt.xlabel('Features', fontsize=20)\n",
    "plt.ylabel('Features', fontsize=20)\n",
    "plt.title('Pair wise Corr matrix Heatmap', fontsize=20)\n",
    "plt.tight_layout()"
   ]
  },
  {
   "cell_type": "code",
   "execution_count": null,
   "metadata": {
    "scrolled": true
   },
   "outputs": [],
   "source": []
  },
  {
   "cell_type": "markdown",
   "metadata": {
    "id": "TfGkTclT6DFe"
   },
   "source": [
    "#### 1.3.1 Show the target distribution? - Number of people with no Heart Disease and Number of people with Heart Disease"
   ]
  },
  {
   "cell_type": "code",
   "execution_count": 13,
   "metadata": {
    "id": "rXy1d5K7501d"
   },
   "outputs": [
    {
     "data": {
      "image/png": "[encoded data removed]",
      "text/plain": [
       "<Figure size 432x288 with 1 Axes>"
      ]
     },
     "metadata": {},
     "output_type": "display_data"
    }
   ],
   "source": [
    "#your code here\n",
    "sns.histplot(train_data['target'])\n",
    "plt.xlabel('Target', fontsize=20)\n",
    "plt.ylabel('Frequency', fontsize=20)\n",
    "plt.title('Distribution of Target Variable')\n",
    "plt.xticks([0,1])\n",
    "plt.tight_layout()"
   ]
  },
  {
   "cell_type": "markdown",
   "metadata": {
    "id": "tn-pKWEP6R5U"
   },
   "source": [
    "#### 1.3.2 How is age distributed? What is the most common age to get a heart disease? How is gender related to age?"
   ]
  },
  {
   "cell_type": "code",
   "execution_count": 14,
   "metadata": {},
   "outputs": [
    {
     "data": {
      "image/png": "[encoded data removed]",
      "text/plain": [
       "<Figure size 432x288 with 1 Axes>"
      ]
     },
     "metadata": {},
     "output_type": "display_data"
    }
   ],
   "source": [
    "sns.histplot(data=train_data, x='age', hue='target', bins=15)\n",
    "plt.title('Age Distribution for people with heart disease vs without')\n",
    "plt.tight_layout()\n"
   ]
  },
  {
   "cell_type": "code",
   "execution_count": 15,
   "metadata": {},
   "outputs": [
    {
     "data": {
      "image/png": "[encoded data removed]",
      "text/plain": [
       "<Figure size 432x288 with 1 Axes>"
      ]
     },
     "metadata": {},
     "output_type": "display_data"
    }
   ],
   "source": [
    "sns.histplot(train_data['sex'])\n",
    "plt.xlabel('Sex', fontsize=20)\n",
    "plt.ylabel('Frequency', fontsize=20)\n",
    "plt.title('Distribution of Sex in Dataframe')\n",
    "plt.xticks([0,1])\n",
    "plt.tight_layout()"
   ]
  },
  {
   "cell_type": "code",
   "execution_count": 16,
   "metadata": {},
   "outputs": [
    {
     "data": {
      "text/plain": [
       "Text(0.5, 1.0, 'Distribution of Sex with heart conditions in Dataframe')"
      ]
     },
     "execution_count": 16,
     "metadata": {},
     "output_type": "execute_result"
    },
    {
     "data": {
      "image/png": "[encoded data removed]",
      "text/plain": [
       "<Figure size 432x288 with 1 Axes>"
      ]
     },
     "metadata": {},
     "output_type": "display_data"
    }
   ],
   "source": [
    "plt.hist(train_data['sex'][(train_data['target']==1)], color='Brown', label='sex')\n",
    "plt.xlabel('People who has heart conditions')\n",
    "plt.ylabel('Frequency')\n",
    "plt.title('Distribution of Sex with heart conditions in Dataframe')\n",
    "#plt.hist(train_data['sex'][(train_data['target']==1)], alpha=0.4, label='Women', color='brown')"
   ]
  },
  {
   "cell_type": "code",
   "execution_count": 17,
   "metadata": {},
   "outputs": [],
   "source": [
    "n_0 = train_data['sex'][(train_data['target']==1)].value_counts()[0]\n",
    "n_1 = train_data['sex'][(train_data['target']==1)].value_counts()[1]"
   ]
  },
  {
   "cell_type": "code",
   "execution_count": 18,
   "metadata": {},
   "outputs": [
    {
     "data": {
      "image/png": "[encoded data removed]",
      "text/plain": [
       "<Figure size 432x288 with 1 Axes>"
      ]
     },
     "metadata": {},
     "output_type": "display_data"
    }
   ],
   "source": [
    "plt.hist(train_data['age'][np.logical_and(train_data['sex']==1,train_data['target']==1)], alpha=0.4, label='Men', color='black')\n",
    "plt.hist(train_data['age'][np.logical_and(train_data['sex']==0,train_data['target']==1)], alpha=0.4, label='Women', color='brown')\n",
    "plt.title('Age distribution of people with heart conditions, men and women')\n",
    "plt.xlabel('age')\n",
    "plt.legend()\n",
    "plt.tight_layout()"
   ]
  },
  {
   "cell_type": "markdown",
   "metadata": {},
   "source": [
    "**Infernce:**\n",
    "1. Most Common age to get a heart disease is around 55 years old for both men and women\n",
    "2. As there is a class imbalance we want to look at percentage instead of total numbers.\n",
    "3. We can see that a higher number of female population among the sample have a heart condition as compared to males"
   ]
  },
  {
   "cell_type": "code",
   "execution_count": 19,
   "metadata": {},
   "outputs": [
    {
     "data": {
      "image/png": "[encoded data removed]",
      "text/plain": [
       "<Figure size 432x288 with 1 Axes>"
      ]
     },
     "metadata": {},
     "output_type": "display_data"
    }
   ],
   "source": [
    "from matplotlib.ticker import PercentFormatter\n",
    "plt.hist(train_data['age'][np.logical_and(train_data['sex']==1,train_data['target']==1)],weights=np.ones(n_1) / n_1,  alpha=0.4, label='Men', color='black')\n",
    "plt.hist(train_data['age'][np.logical_and(train_data['sex']==0,train_data['target']==1)],weights=np.ones(n_0) / n_0, alpha=0.4, label='Women', color='brown')\n",
    "plt.title('Age distribution (in percentage) of people with heart conditions, men and women')\n",
    "plt.gca().yaxis.set_major_formatter(PercentFormatter(1))\n",
    "plt.xlabel('age')\n",
    "plt.ylabel('percentage distribution')\n",
    "plt.legend()\n",
    "plt.tight_layout()"
   ]
  },
  {
   "cell_type": "markdown",
   "metadata": {},
   "source": [
    "On Further analysis we see that, \n",
    "1. Men at a younger age of around 45 years old have a higher chance than women to have a heart condition. \n",
    "2. Whereas women between the age of 50-55 have a higher chance to have a heart disease as compared to men. \n",
    "3. Women also have a high risk of getting a heart disease around the age of 65 as compared to men.\n",
    "4. This data might only reflect people who visited the hospital and thus intern is not a good analysis of the general health of the public. "
   ]
  },
  {
   "cell_type": "markdown",
   "metadata": {
    "id": "baTxzMaRjP71"
   },
   "source": [
    "#### 1.3.3 Which has the most postive and negative correlation with the target variable?\n"
   ]
  },
  {
   "cell_type": "code",
   "execution_count": 20,
   "metadata": {
    "id": "TzdUKArvjGV4"
   },
   "outputs": [
    {
     "data": {
      "image/png": "[encoded data removed]",
      "text/plain": [
       "<Figure size 1008x576 with 1 Axes>"
      ]
     },
     "metadata": {},
     "output_type": "display_data"
    }
   ],
   "source": [
    "#your code here\n",
    "#Pair-wise correlation with the target variable ('target')\n",
    "\n",
    "corr_avg_stars = corr_matrix['target'].sort_values(ascending=False)\n",
    "corr_avg_stars.pop('target')\n",
    "\n",
    "#Visualize using a bar plot\n",
    "ax = corr_avg_stars.plot(kind='bar', sharex=False, figsize=(14,8), color = 'brown', zorder=2, width=0.8, alpha=0.5)\n",
    "\n",
    "#Despine\n",
    "ax.spines['right'].set_visible(False)\n",
    "ax.spines['left'].set_visible(False)\n",
    "ax.spines['top'].set_visible(False)\n",
    "ax.spines['bottom'].set_visible(False)\n",
    "\n",
    "ax.set_xlabel('Features', labelpad=20, weight='bold')\n",
    "ax.set_ylabel('Corr', labelpad=20, weight='bold')\n",
    "plt.title('Corr with target variable', fontsize=20)\n",
    "plt.tight_layout()"
   ]
  },
  {
   "cell_type": "markdown",
   "metadata": {
    "id": "mYTJgGjrjV8u"
   },
   "source": [
    "**Inference:**\n",
    "1. Maximum Positive Corelation is with the predictor cp that is chest pain type.\n",
    "2. Maximum Negetive Corelation with the predictor exang that is Exercise induced angina."
   ]
  },
  {
   "cell_type": "markdown",
   "metadata": {
    "id": "fPysFunxkCe6"
   },
   "source": [
    "#### 1.3.4 Correlation between Blood Sugar level, Slope type and Thalessemia type with target"
   ]
  },
  {
   "cell_type": "code",
   "execution_count": 21,
   "metadata": {
    "id": "6bM8hzi3kQ5s"
   },
   "outputs": [
    {
     "data": {
      "text/plain": [
       "<seaborn.axisgrid.FacetGrid at 0x7f8220dd2d50>"
      ]
     },
     "execution_count": 21,
     "metadata": {},
     "output_type": "execute_result"
    },
    {
     "data": {
      "image/png": "[encoded data removed]",
      "text/plain": [
       "<Figure size 360x360 with 1 Axes>"
      ]
     },
     "metadata": {},
     "output_type": "display_data"
    }
   ],
   "source": [
    "#your code here\n",
    "df_corr_3p = train_data[['fbs', 'slope', 'thal']]\n",
    "sns.catplot(x=\"fbs\", y=\"target\", kind=\"violin\", data=train_data)"
   ]
  },
  {
   "cell_type": "code",
   "execution_count": 22,
   "metadata": {},
   "outputs": [
    {
     "data": {
      "text/plain": [
       "<seaborn.axisgrid.FacetGrid at 0x7f8221074d90>"
      ]
     },
     "execution_count": 22,
     "metadata": {},
     "output_type": "execute_result"
    },
    {
     "data": {
      "image/png": "[encoded data removed]",
      "text/plain": [
       "<Figure size 360x360 with 1 Axes>"
      ]
     },
     "metadata": {},
     "output_type": "display_data"
    }
   ],
   "source": [
    "sns.catplot(x=\"slope\", y=\"target\", kind=\"violin\", data=train_data)"
   ]
  },
  {
   "cell_type": "code",
   "execution_count": 23,
   "metadata": {},
   "outputs": [
    {
     "data": {
      "text/plain": [
       "<seaborn.axisgrid.FacetGrid at 0x7f822168bd10>"
      ]
     },
     "execution_count": 23,
     "metadata": {},
     "output_type": "execute_result"
    },
    {
     "data": {
      "image/png": "[encoded data removed]",
      "text/plain": [
       "<Figure size 360x360 with 1 Axes>"
      ]
     },
     "metadata": {},
     "output_type": "display_data"
    }
   ],
   "source": [
    "sns.catplot(x=\"thal\", y=\"target\", kind=\"violin\", data=train_data)"
   ]
  },
  {
   "cell_type": "markdown",
   "metadata": {
    "id": "8xzinIUFkpUQ"
   },
   "source": [
    "your answer here"
   ]
  },
  {
   "cell_type": "markdown",
   "metadata": {
    "id": "hplCr5PRnD9u"
   },
   "source": [
    "#### 1.3.5 Plot the histogram for the all variables in train set"
   ]
  },
  {
   "cell_type": "code",
   "execution_count": 24,
   "metadata": {},
   "outputs": [
    {
     "data": {
      "text/plain": [
       "Index(['age', 'sex', 'cp', 'trestbps', 'chol', 'fbs', 'restecg', 'thalach',\n",
       "       'exang', 'oldpeak', 'slope', 'ca', 'thal', 'target'],\n",
       "      dtype='object')"
      ]
     },
     "execution_count": 24,
     "metadata": {},
     "output_type": "execute_result"
    }
   ],
   "source": [
    "train_data.columns"
   ]
  },
  {
   "cell_type": "code",
   "execution_count": 25,
   "metadata": {
    "id": "TPOIPNqpnacA"
   },
   "outputs": [
    {
     "name": "stderr",
     "output_type": "stream",
     "text": [
      "/Users/harshvardhan/opt/anaconda3/lib/python3.7/site-packages/seaborn/distributions.py:2557: FutureWarning: `distplot` is a deprecated function and will be removed in a future version. Please adapt your code to use either `displot` (a figure-level function with similar flexibility) or `histplot` (an axes-level function for histograms).\n",
      "  warnings.warn(msg, FutureWarning)\n"
     ]
    },
    {
     "data": {
      "image/png": "[encoded data removed]",
      "text/plain": [
       "<Figure size 1080x1800 with 14 Axes>"
      ]
     },
     "metadata": {},
     "output_type": "display_data"
    }
   ],
   "source": [
    "#plot histogram for all variables\n",
    "fig,axes = plt.subplots(nrows=7, ncols=2, figsize=(15,25))\n",
    "axes = axes.flatten()\n",
    "for i, x in enumerate(train_data.columns):\n",
    "    #print(x)\n",
    "    sns.distplot(x =train_data[x], kde=False, axlabel=x, label='Density Log scale', ax= axes[i])\n",
    "    #axes[i].set_yscale('log') #log-scale view since the data has a large range \n"
   ]
  },
  {
   "cell_type": "markdown",
   "metadata": {
    "id": "4VfA1kjlmhhD"
   },
   "source": [
    "##### Based on the histogram plotted above, it looks like we need to standardise the data, right? But tree models do not need standardising, explain why?"
   ]
  },
  {
   "cell_type": "markdown",
   "metadata": {
    "id": "hfEyENobKWWU"
   },
   "source": [
    "your answer here"
   ]
  },
  {
   "cell_type": "markdown",
   "metadata": {
    "id": "TPNUF_RFBDK3"
   },
   "source": [
    "### 1.4 Defining function to calculate accuracy"
   ]
  },
  {
   "cell_type": "markdown",
   "metadata": {
    "id": "-suY4EaMKcmH"
   },
   "source": [
    "We will define a function to calculate the model accuracy using `accuracy_score`"
   ]
  },
  {
   "cell_type": "code",
   "execution_count": 26,
   "metadata": {
    "id": "Rh_M6gLqAx3h"
   },
   "outputs": [
    {
     "ename": "SyntaxError",
     "evalue": "unexpected EOF while parsing (<ipython-input-26-7d3f1ed8ffa9>, line 4)",
     "output_type": "error",
     "traceback": [
      "\u001b[0;36m  File \u001b[0;32m\"<ipython-input-26-7d3f1ed8ffa9>\"\u001b[0;36m, line \u001b[0;32m4\u001b[0m\n\u001b[0;31m    #your code here\u001b[0m\n\u001b[0m                   ^\u001b[0m\n\u001b[0;31mSyntaxError\u001b[0m\u001b[0;31m:\u001b[0m unexpected EOF while parsing\n"
     ]
    }
   ],
   "source": [
    "#Function to get test accuracy\n",
    "def accuracy(X, y, model):\n",
    "    #X is the testing data to predict on, y is the actual data\n",
    "    #your code here"
   ]
  },
  {
   "cell_type": "markdown",
   "metadata": {
    "id": "VHgF_9wLLvEs"
   },
   "source": [
    "## Part 2: Models! **(80 marks)**\n"
   ]
  },
  {
   "cell_type": "markdown",
   "metadata": {
    "id": "TcrqR8XgKx1u"
   },
   "source": [
    "**Now that we have completed understanding the data and pre-processing the data, lets move on to the next step of building models on the data**"
   ]
  },
  {
   "cell_type": "markdown",
   "metadata": {
    "id": "LJay44vtciQZ"
   },
   "source": [
    "We will use two metrics to evaluate our model.\n",
    "1. The accuracy function we defined - this will help us understand the training and testing accuracy of the model\n",
    "2. Confusion matrix to evaluate the model\n",
    "\n",
    "Remember the basics of Confusion Matrix: \n",
    "\n",
    "![Cm.jpeg](https://drive.google.com/uc?export=view&id=14q4KVVqWiP6C0dve4745UX7LN3vKl0i6)\n",
    "\n",
    "\n",
    "This is how sklearn plots it confusion matrix, hence remember this in each step where you are required to do analysis.\n"
   ]
  },
  {
   "cell_type": "markdown",
   "metadata": {
    "id": "UQPS4R_XFgmj"
   },
   "source": [
    "### 2.1 Baseline Model - Logistic Regression **(5 marks)**"
   ]
  },
  {
   "cell_type": "markdown",
   "metadata": {
    "id": "JTF9FKnsXn6r"
   },
   "source": [
    "We will start with the most basic classification algorithm - **Logistic Regression**. \n",
    "\n",
    "1. We will create a pipeline - where we will pass the `('standardizer', StandardScaler()` and sklearn's logistic regression with random_state as rf(42). Lets call this model **LR_model**\n",
    "2. Create the parameter_grid to be passed to the model - this can be anything, you are cross validating to get the best score for your model, hence chose the parameters you want to define. \n",
    "3. Pass the pipeline and the parameter_grid to the GridSearchCV, with `cv =10 ` and `scoring = \"accuracy\"`\n",
    "4. Fit the model\n",
    "5. Print the performance of the model(training and testing accuracy) using the accuracy function defined by you. \n",
    "7. Print out the best params of the model\n",
    "6. Plot the confusion matrix to evaluate the model. \n",
    "4. Based on the confusion matrix and the accuracy - **draw conclusions about the model**"
   ]
  },
  {
   "cell_type": "code",
   "execution_count": 27,
   "metadata": {
    "id": "qivmsgNUSbLB"
   },
   "outputs": [],
   "source": [
    "#build a pipeline\n",
    "standardizer = StandardScaler()\n",
    "LR_model = LogisticRegression(random_state=rf)\n",
    "LR_pipeline = Pipeline(steps = [('standardizer', standardizer), ('LR_model', LR_model)])"
   ]
  },
  {
   "cell_type": "code",
   "execution_count": 28,
   "metadata": {
    "id": "owdXuIqv3OpF"
   },
   "outputs": [
    {
     "name": "stdout",
     "output_type": "stream",
     "text": [
      "Best {'LR_model__C': 0.1} 0.8300110741971206\n"
     ]
    }
   ],
   "source": [
    "#hyper-parameters tuning \n",
    "def best_model(model, parameter, X, y, n_folds=5):\n",
    "    gs = GridSearchCV(model, param_grid=parameter, cv=n_folds)\n",
    "    gs.fit(X,y)\n",
    "    print('Best', gs.best_params_, gs.best_score_)\n",
    "    best = gs.best_estimator_\n",
    "    return best\n",
    "\n",
    "\n",
    "c_values = {\"LR_model__C\": [0.0001, 0.001, 0.01, 0.1, 1, 10, 100, 1000, 10000]}\n",
    "#Hyper parameter tuning for Logistic regression\n",
    "#your code here \n",
    "best_lr  = best_model(LR_pipeline, c_values, X_train, y_train)"
   ]
  },
  {
   "cell_type": "code",
   "execution_count": 29,
   "metadata": {
    "id": "QvbpCTMrS2Ta"
   },
   "outputs": [
    {
     "name": "stdout",
     "output_type": "stream",
     "text": [
      "Accuracy score on test set is 0.82\n"
     ]
    }
   ],
   "source": [
    "#fit the model\n",
    "best_lr.fit(X_train, y_train)\n",
    "acc_best_lr = accuracy_score(y_test, best_lr.predict(X_test))\n",
    "print('Accuracy score on test set is',round(acc_best_lr,2))"
   ]
  },
  {
   "cell_type": "code",
   "execution_count": 30,
   "metadata": {
    "id": "5ynDqJoCB02G"
   },
   "outputs": [
    {
     "name": "stdout",
     "output_type": "stream",
     "text": [
      "Cross-Validation Accuracy Scores [0.86046512 0.8372093  0.76190476 0.9047619  0.78571429]\n"
     ]
    }
   ],
   "source": [
    "scores = cross_val_score(best_lr, X_train, y_train, cv=5)\n",
    "print('Cross-Validation Accuracy Scores', scores)"
   ]
  },
  {
   "cell_type": "code",
   "execution_count": 31,
   "metadata": {
    "id": "Bo60EPBW4PdL"
   },
   "outputs": [],
   "source": [
    "#get the best parameters\n"
   ]
  },
  {
   "cell_type": "code",
   "execution_count": 32,
   "metadata": {
    "id": "c95cy0yQLVHT"
   },
   "outputs": [
    {
     "data": {
      "image/png": "[encoded data removed]",
      "text/plain": [
       "<Figure size 432x288 with 2 Axes>"
      ]
     },
     "metadata": {},
     "output_type": "display_data"
    }
   ],
   "source": [
    "#plot the confusion matrix\n",
    "cm_lr = confusion_matrix(y_test, best_lr.predict(X_test))\n",
    "sns.heatmap(cm_lr, annot=True, cmap = 'Blues_r')\n",
    "plt.ylabel('Actual label')\n",
    "plt.xlabel('Predicted label')\n",
    "all_sample_title = 'Accuracy Score: {0}'.format(round(acc_best_lr,2))\n",
    "plt.title(all_sample_title, size = 15);"
   ]
  },
  {
   "cell_type": "markdown",
   "metadata": {
    "id": "-OgMNDw3sItB"
   },
   "source": [
    "#### What can you say about the model? By looking the the accuracy and the confusion matrix. "
   ]
  },
  {
   "cell_type": "markdown",
   "metadata": {
    "id": "X3B4MB7vsPbJ"
   },
   "source": [
    "your answer here\n"
   ]
  },
  {
   "cell_type": "markdown",
   "metadata": {
    "id": "pc9odd-eLzBm"
   },
   "source": [
    "### 2.2 Decision Tree **(30 marks)**"
   ]
  },
  {
   "cell_type": "markdown",
   "metadata": {
    "id": "aWuX0RcHOZa0"
   },
   "source": [
    "We will use a simple Decision Tree Classifer to classify the target variable. \n",
    "This is what you ought to keep in mind about decision trees.\n",
    "\n",
    "**from the docs of sklearn:**\n",
    "\n",
    "* `max_depth` : int or None, optional (default=None)\n",
    "  * The maximum depth of the tree. If **None**, then nodes are expanded until all leaves are pure or until all leaves contain less than `min_samples_split` samples.\n",
    "* `min_samples_split` : int, float, optional (default=2)\n",
    "\n",
    "**Remember:**\n",
    "\n",
    "The deeper the tree, the more prone you are to overfitting.\n",
    "The smaller `min_samples_split`, the more the overfitting. One may use `min_samples_leaf` instead. More samples per leaf, the higher the bias.\n",
    "\n",
    "**Steps to follow:**\n",
    "\n",
    "\n",
    "1. Use sklearn's DecisionTreeClassifer to fit the model on the training set - **do not** use `max_depth` here - let it be **default(None)** - we want to see how much the depth goes upto, and set the `random_state = rf`. Call this model **DecisionTree**\n",
    "2. Print the performance of the model(training and testing accuracy) using the accuracy function defined by you. \n",
    "3. Plot the confusion matrix to evaluate the model.\n",
    "4. Plot the Decision Tree built using sklearn's tree \n",
    "5. Based on the confusion matrix and the accuracy - draw conclusions about the model"
   ]
  },
  {
   "cell_type": "code",
   "execution_count": 33,
   "metadata": {
    "id": "ggITbsSHLjCg"
   },
   "outputs": [
    {
     "data": {
      "text/plain": [
       "DecisionTreeClassifier(random_state=42)"
      ]
     },
     "execution_count": 33,
     "metadata": {},
     "output_type": "execute_result"
    }
   ],
   "source": [
    "#fit the model\n",
    "DecisionTree = DecisionTreeClassifier(random_state=rf)\n",
    "DecisionTree.fit(X_train, y_train)"
   ]
  },
  {
   "cell_type": "code",
   "execution_count": 34,
   "metadata": {
    "id": "viy2f2A-L3AK"
   },
   "outputs": [
    {
     "name": "stdout",
     "output_type": "stream",
     "text": [
      "Train Accuracy: 1.0\n",
      "Test Accuracy: 0.74\n",
      "Cross Val SCore: [0.79069767 0.74418605 0.73809524 0.78571429 0.73809524]\n"
     ]
    }
   ],
   "source": [
    "#Performance\n",
    "train_acc = accuracy_score(y_train, DecisionTree.predict(X_train))\n",
    "test_acc = accuracy_score(y_test, DecisionTree.predict(X_test))\n",
    "cross_val_DecisionTree = cross_val_score(DecisionTree, X_train, y_train, cv=5)\n",
    "print('Train Accuracy:',train_acc)\n",
    "print('Test Accuracy:',round(test_acc,2))\n",
    "print('Cross Val SCore:', cross_val_DecisionTree)"
   ]
  },
  {
   "cell_type": "code",
   "execution_count": 35,
   "metadata": {
    "id": "y_TXEg7jMAg_"
   },
   "outputs": [],
   "source": [
    "#plot the tree\n",
    "#your code here"
   ]
  },
  {
   "cell_type": "code",
   "execution_count": 36,
   "metadata": {
    "id": "PoqjtK3AL8E5"
   },
   "outputs": [],
   "source": [
    "#plot the confusion matrix\n",
    "def cm_model(model, X_test, y_test, test_acc):\n",
    "    cm_ = confusion_matrix(y_test, model.predict(X_test))\n",
    "    sns.heatmap(cm_, annot=True, cmap = 'Blues_r')\n",
    "    plt.ylabel('Actual label')\n",
    "    plt.xlabel('Predicted label')\n",
    "    all_sample_title = 'Accuracy Score: {0}'.format(round(test_acc,2))\n",
    "    plt.title(all_sample_title, size = 15);"
   ]
  },
  {
   "cell_type": "code",
   "execution_count": 37,
   "metadata": {},
   "outputs": [
    {
     "data": {
      "image/png": "[encoded data removed]",
      "text/plain": [
       "<Figure size 432x288 with 2 Axes>"
      ]
     },
     "metadata": {},
     "output_type": "display_data"
    }
   ],
   "source": [
    "cm_model(DecisionTree, X_test, y_test, test_acc)"
   ]
  },
  {
   "cell_type": "markdown",
   "metadata": {
    "id": "4fTrnp7zQMsq"
   },
   "source": [
    "#### What conclusions can you draw from the confusion matrix above? How different is this from the Logistic Regression Model defined by you \n",
    " \n",
    "your answer here\n"
   ]
  },
  {
   "cell_type": "raw",
   "metadata": {
    "id": "dPbpzXXmh7R2"
   },
   "source": [
    "### 2.2.1 Pruning **(25 marks)**"
   ]
  },
  {
   "cell_type": "markdown",
   "metadata": {
    "id": "FITD9M-zvA6x"
   },
   "source": [
    "Now you see based on the accuracy and the confusion matrix, your model is overfitting. Overfitting in Decision Trees is extremely common. To solve this issue, we will opt for two different approaches:\n",
    "\n",
    "1. **Pruning** by choosing the best cost complexity parameter(`ccp_alpha`), `ccp_alpha` controls how less or more the pruning happens. \n",
    "  * Greater values of `ccp_alpha` increase the number of nodes pruned. - A way to find the best `ccp_alpha` value is by plotting the testing and training accuracy for all `ccp_alpha` values, and then cross validating\n",
    "\n",
    "2. By finding the best **max_depth**. "
   ]
  },
  {
   "cell_type": "markdown",
   "metadata": {
    "id": "MZurAhjHiDi_"
   },
   "source": [
    "#### 2.2.1.1 Pruning using Cost complexity parameter - ccp_alpha"
   ]
  },
  {
   "cell_type": "markdown",
   "metadata": {
    "id": "-5_BDEbNMR5a"
   },
   "source": [
    "##### Cost Complexity Pruning: Visualize alpha"
   ]
  },
  {
   "cell_type": "markdown",
   "metadata": {
    "id": "Rg23ISN4v7H2"
   },
   "source": [
    "For finding the `best alpha` follow the steps below:\n",
    "\n",
    "1. From the previous Decision Tree built, get all the values of `ccp_alphas` and build a pruned tree for **each value** of `ccp_alphas`. \n",
    "\n",
    "2. Plot the alpha values with respect to the training and testing accuracy. You plot should look something like this(**remember your plot will vary based on your model hence it will not look exactly like this**)\n",
    "![accuracy.jpeg](https://drive.google.com/uc?export=view&id=1aUAAOS5rvsXQpadMNhDlbinpA7OJCais)\n",
    "  * Create a datadrame with the training accuracy, testing accuracy and the respective alpha values. (call this dataframe as **scores**)\n",
    "  * An example of this is below:\n",
    "  \n",
    "![ttsplit.jpeg](https://drive.google.com/uc?export=view&id=1yZnIefjMrDrSptYhysiwkRwvoRKNNUp8)\n",
    "  * From the graph find out the value of best alpha.\n",
    "  * Use this alpha to create a new model - call this model **DT_test**. \n",
    "  * Check the accuracy, and the plot the confusion matrix and the tree\n",
    "  * Is the model performing better than the base Decision tree model you built?\n",
    "\n",
    "3. Now, we got the best alpha for the training set we gave initially, however there is a possibility that if we have different training sets, the accuracy of the model and the best alpha value will also vary. \n",
    "  * To check this, perform **5-fold cross validation** with training set. This will help us see if the **accuracy varies for different values of training set**. If yes, then we can move forward with find different alpha values to get the most optimal alpha\n",
    "\n",
    "4. Once you have confirmed that you get different accuracies, we will find a better alpha value than we did in the DT_test case. \n",
    "  * For this we will first check the range of alphas we got and the difference between two alpha values. We will cross validate our model using GridSearchCv - where the param_grid passed to it, will have the alpha values for the range we found and with the step_size as the difference. \n",
    "  * For example:\n",
    "  Consider the dataframe image(scores), the range of alpha is from 0 to 0.0044 with a difference between two alphas as 0.001. This is what will be passed to the param_grid. This allows us to find a better value of alpha than the previous DT_test model. Name this alpha as `ideal_alpha_value`\n",
    "4. Use this `ideal_alpha_value` in the new DecisionTreeClassifer Model - call it **DT_pruned**. \n",
    "  * Calculate the perfomance of the model\n",
    "  * Plot the confusion matrix \n",
    "  * Plot the tree\n",
    "  * Is this tree performing better than DT_test and Decision tree baseline model?"
   ]
  },
  {
   "cell_type": "markdown",
   "metadata": {
    "id": "cvpe_w1FXWxr"
   },
   "source": [
    "##### **Step 1:** Get all the values of Alpha and build a pruned tree for each value. \n",
    "First step, is to extract all the alpha and impurity values for the previous tree(Decision_tree) that we built and build a **pruned tree** for each value of alpha. \n",
    "\n",
    "**NOTE:**\n",
    "\n",
    "**Omit the maximum value of alpha - this is beacause the maximum value would prune all leaves, hence leaving us with only root instead of the tree.**\n",
    "\n",
    "Hence: \n",
    "\n",
    "`ccp_alphas = ccp_alphas[:-1]`"
   ]
  },
  {
   "cell_type": "code",
   "execution_count": 38,
   "metadata": {
    "id": "TG0yVvT90ivY"
   },
   "outputs": [],
   "source": [
    "#Cost Complexity Pruning\n",
    "path = DecisionTree.cost_complexity_pruning_path(X_train, y_train)\n",
    "ccp_alphas = path.ccp_alphas\n",
    "ccp_alpha_value = []\n",
    "dtree_models = []\n",
    "train_acc = []\n",
    "test_acc = []\n",
    "for ccp_alpha in ccp_alphas:\n",
    "    dtree = DecisionTreeClassifier(ccp_alpha= ccp_alpha, random_state=rf)\n",
    "    dtree.fit(X_train, y_train)\n",
    "    dtree_models.append(dtree)\n",
    "    test_acc.append(accuracy_score(y_test, dtree.predict(X_test)))\n",
    "    train_acc.append(accuracy_score(y_train, dtree.predict(X_train)))\n",
    "    ccp_alpha_value.append(ccp_alpha)"
   ]
  },
  {
   "cell_type": "code",
   "execution_count": 39,
   "metadata": {},
   "outputs": [],
   "source": [
    "scores = pd.DataFrame(\n",
    "    {'ccp_alpha_value': ccp_alpha_value,\n",
    "     'dtree_models': dtree_models,\n",
    "     'train_acc': train_acc, \n",
    "     'test_acc': test_acc\n",
    "    })"
   ]
  },
  {
   "cell_type": "code",
   "execution_count": 40,
   "metadata": {},
   "outputs": [
    {
     "data": {
      "text/html": [
       "<div>\n",
       "<style scoped>\n",
       "    .dataframe tbody tr th:only-of-type {\n",
       "        vertical-align: middle;\n",
       "    }\n",
       "\n",
       "    .dataframe tbody tr th {\n",
       "        vertical-align: top;\n",
       "    }\n",
       "\n",
       "    .dataframe thead th {\n",
       "        text-align: right;\n",
       "    }\n",
       "</style>\n",
       "<table border=\"1\" class=\"dataframe\">\n",
       "  <thead>\n",
       "    <tr style=\"text-align: right;\">\n",
       "      <th></th>\n",
       "      <th>ccp_alpha_value</th>\n",
       "      <th>dtree_models</th>\n",
       "      <th>train_acc</th>\n",
       "      <th>test_acc</th>\n",
       "    </tr>\n",
       "  </thead>\n",
       "  <tbody>\n",
       "    <tr>\n",
       "      <th>0</th>\n",
       "      <td>0.000000</td>\n",
       "      <td>DecisionTreeClassifier(random_state=42)</td>\n",
       "      <td>1.000000</td>\n",
       "      <td>0.736264</td>\n",
       "    </tr>\n",
       "    <tr>\n",
       "      <th>1</th>\n",
       "      <td>0.003075</td>\n",
       "      <td>DecisionTreeClassifier(ccp_alpha=0.00307477288...</td>\n",
       "      <td>0.995283</td>\n",
       "      <td>0.725275</td>\n",
       "    </tr>\n",
       "    <tr>\n",
       "      <th>2</th>\n",
       "      <td>0.003145</td>\n",
       "      <td>DecisionTreeClassifier(ccp_alpha=0.00314465408...</td>\n",
       "      <td>0.990566</td>\n",
       "      <td>0.725275</td>\n",
       "    </tr>\n",
       "    <tr>\n",
       "      <th>3</th>\n",
       "      <td>0.004188</td>\n",
       "      <td>DecisionTreeClassifier(ccp_alpha=0.00418756468...</td>\n",
       "      <td>0.981132</td>\n",
       "      <td>0.736264</td>\n",
       "    </tr>\n",
       "    <tr>\n",
       "      <th>4</th>\n",
       "      <td>0.004323</td>\n",
       "      <td>DecisionTreeClassifier(ccp_alpha=0.00432260936...</td>\n",
       "      <td>0.976415</td>\n",
       "      <td>0.736264</td>\n",
       "    </tr>\n",
       "    <tr>\n",
       "      <th>5</th>\n",
       "      <td>0.004437</td>\n",
       "      <td>DecisionTreeClassifier(ccp_alpha=0.00443674325...</td>\n",
       "      <td>0.971698</td>\n",
       "      <td>0.725275</td>\n",
       "    </tr>\n",
       "    <tr>\n",
       "      <th>6</th>\n",
       "      <td>0.005322</td>\n",
       "      <td>DecisionTreeClassifier(ccp_alpha=0.00532172230...</td>\n",
       "      <td>0.962264</td>\n",
       "      <td>0.736264</td>\n",
       "    </tr>\n",
       "    <tr>\n",
       "      <th>7</th>\n",
       "      <td>0.006289</td>\n",
       "      <td>DecisionTreeClassifier(ccp_alpha=0.00628930817...</td>\n",
       "      <td>0.957547</td>\n",
       "      <td>0.736264</td>\n",
       "    </tr>\n",
       "    <tr>\n",
       "      <th>8</th>\n",
       "      <td>0.007075</td>\n",
       "      <td>DecisionTreeClassifier(ccp_alpha=0.00707547169...</td>\n",
       "      <td>0.952830</td>\n",
       "      <td>0.736264</td>\n",
       "    </tr>\n",
       "    <tr>\n",
       "      <th>9</th>\n",
       "      <td>0.007547</td>\n",
       "      <td>DecisionTreeClassifier(ccp_alpha=0.00754716981...</td>\n",
       "      <td>0.948113</td>\n",
       "      <td>0.736264</td>\n",
       "    </tr>\n",
       "    <tr>\n",
       "      <th>10</th>\n",
       "      <td>0.007783</td>\n",
       "      <td>DecisionTreeClassifier(ccp_alpha=0.00778301886...</td>\n",
       "      <td>0.938679</td>\n",
       "      <td>0.747253</td>\n",
       "    </tr>\n",
       "    <tr>\n",
       "      <th>11</th>\n",
       "      <td>0.007862</td>\n",
       "      <td>DecisionTreeClassifier(ccp_alpha=0.00786163522...</td>\n",
       "      <td>0.933962</td>\n",
       "      <td>0.758242</td>\n",
       "    </tr>\n",
       "    <tr>\n",
       "      <th>12</th>\n",
       "      <td>0.008576</td>\n",
       "      <td>DecisionTreeClassifier(ccp_alpha=0.00857632933...</td>\n",
       "      <td>0.929245</td>\n",
       "      <td>0.758242</td>\n",
       "    </tr>\n",
       "    <tr>\n",
       "      <th>13</th>\n",
       "      <td>0.009317</td>\n",
       "      <td>DecisionTreeClassifier(ccp_alpha=0.00931660196...</td>\n",
       "      <td>0.915094</td>\n",
       "      <td>0.780220</td>\n",
       "    </tr>\n",
       "    <tr>\n",
       "      <th>14</th>\n",
       "      <td>0.010482</td>\n",
       "      <td>DecisionTreeClassifier(ccp_alpha=0.01048218029...</td>\n",
       "      <td>0.910377</td>\n",
       "      <td>0.780220</td>\n",
       "    </tr>\n",
       "    <tr>\n",
       "      <th>15</th>\n",
       "      <td>0.013103</td>\n",
       "      <td>DecisionTreeClassifier(ccp_alpha=0.01310272536...</td>\n",
       "      <td>0.896226</td>\n",
       "      <td>0.769231</td>\n",
       "    </tr>\n",
       "    <tr>\n",
       "      <th>16</th>\n",
       "      <td>0.014151</td>\n",
       "      <td>DecisionTreeClassifier(ccp_alpha=0.01415094339...</td>\n",
       "      <td>0.886792</td>\n",
       "      <td>0.769231</td>\n",
       "    </tr>\n",
       "    <tr>\n",
       "      <th>17</th>\n",
       "      <td>0.016604</td>\n",
       "      <td>DecisionTreeClassifier(ccp_alpha=0.01660446471...</td>\n",
       "      <td>0.867925</td>\n",
       "      <td>0.769231</td>\n",
       "    </tr>\n",
       "    <tr>\n",
       "      <th>18</th>\n",
       "      <td>0.019578</td>\n",
       "      <td>DecisionTreeClassifier(ccp_alpha=0.01957838341...</td>\n",
       "      <td>0.863208</td>\n",
       "      <td>0.802198</td>\n",
       "    </tr>\n",
       "    <tr>\n",
       "      <th>19</th>\n",
       "      <td>0.022790</td>\n",
       "      <td>DecisionTreeClassifier(ccp_alpha=0.02279046673...</td>\n",
       "      <td>0.820755</td>\n",
       "      <td>0.703297</td>\n",
       "    </tr>\n",
       "    <tr>\n",
       "      <th>20</th>\n",
       "      <td>0.023591</td>\n",
       "      <td>DecisionTreeClassifier(ccp_alpha=0.02359066510...</td>\n",
       "      <td>0.797170</td>\n",
       "      <td>0.692308</td>\n",
       "    </tr>\n",
       "    <tr>\n",
       "      <th>21</th>\n",
       "      <td>0.039927</td>\n",
       "      <td>DecisionTreeClassifier(ccp_alpha=0.03992674587...</td>\n",
       "      <td>0.797170</td>\n",
       "      <td>0.692308</td>\n",
       "    </tr>\n",
       "    <tr>\n",
       "      <th>22</th>\n",
       "      <td>0.068183</td>\n",
       "      <td>DecisionTreeClassifier(ccp_alpha=0.06818273871...</td>\n",
       "      <td>0.754717</td>\n",
       "      <td>0.692308</td>\n",
       "    </tr>\n",
       "    <tr>\n",
       "      <th>23</th>\n",
       "      <td>0.126502</td>\n",
       "      <td>DecisionTreeClassifier(ccp_alpha=0.12650172248...</td>\n",
       "      <td>0.542453</td>\n",
       "      <td>0.549451</td>\n",
       "    </tr>\n",
       "  </tbody>\n",
       "</table>\n",
       "</div>"
      ],
      "text/plain": [
       "    ccp_alpha_value                                       dtree_models  \\\n",
       "0          0.000000            DecisionTreeClassifier(random_state=42)   \n",
       "1          0.003075  DecisionTreeClassifier(ccp_alpha=0.00307477288...   \n",
       "2          0.003145  DecisionTreeClassifier(ccp_alpha=0.00314465408...   \n",
       "3          0.004188  DecisionTreeClassifier(ccp_alpha=0.00418756468...   \n",
       "4          0.004323  DecisionTreeClassifier(ccp_alpha=0.00432260936...   \n",
       "5          0.004437  DecisionTreeClassifier(ccp_alpha=0.00443674325...   \n",
       "6          0.005322  DecisionTreeClassifier(ccp_alpha=0.00532172230...   \n",
       "7          0.006289  DecisionTreeClassifier(ccp_alpha=0.00628930817...   \n",
       "8          0.007075  DecisionTreeClassifier(ccp_alpha=0.00707547169...   \n",
       "9          0.007547  DecisionTreeClassifier(ccp_alpha=0.00754716981...   \n",
       "10         0.007783  DecisionTreeClassifier(ccp_alpha=0.00778301886...   \n",
       "11         0.007862  DecisionTreeClassifier(ccp_alpha=0.00786163522...   \n",
       "12         0.008576  DecisionTreeClassifier(ccp_alpha=0.00857632933...   \n",
       "13         0.009317  DecisionTreeClassifier(ccp_alpha=0.00931660196...   \n",
       "14         0.010482  DecisionTreeClassifier(ccp_alpha=0.01048218029...   \n",
       "15         0.013103  DecisionTreeClassifier(ccp_alpha=0.01310272536...   \n",
       "16         0.014151  DecisionTreeClassifier(ccp_alpha=0.01415094339...   \n",
       "17         0.016604  DecisionTreeClassifier(ccp_alpha=0.01660446471...   \n",
       "18         0.019578  DecisionTreeClassifier(ccp_alpha=0.01957838341...   \n",
       "19         0.022790  DecisionTreeClassifier(ccp_alpha=0.02279046673...   \n",
       "20         0.023591  DecisionTreeClassifier(ccp_alpha=0.02359066510...   \n",
       "21         0.039927  DecisionTreeClassifier(ccp_alpha=0.03992674587...   \n",
       "22         0.068183  DecisionTreeClassifier(ccp_alpha=0.06818273871...   \n",
       "23         0.126502  DecisionTreeClassifier(ccp_alpha=0.12650172248...   \n",
       "\n",
       "    train_acc  test_acc  \n",
       "0    1.000000  0.736264  \n",
       "1    0.995283  0.725275  \n",
       "2    0.990566  0.725275  \n",
       "3    0.981132  0.736264  \n",
       "4    0.976415  0.736264  \n",
       "5    0.971698  0.725275  \n",
       "6    0.962264  0.736264  \n",
       "7    0.957547  0.736264  \n",
       "8    0.952830  0.736264  \n",
       "9    0.948113  0.736264  \n",
       "10   0.938679  0.747253  \n",
       "11   0.933962  0.758242  \n",
       "12   0.929245  0.758242  \n",
       "13   0.915094  0.780220  \n",
       "14   0.910377  0.780220  \n",
       "15   0.896226  0.769231  \n",
       "16   0.886792  0.769231  \n",
       "17   0.867925  0.769231  \n",
       "18   0.863208  0.802198  \n",
       "19   0.820755  0.703297  \n",
       "20   0.797170  0.692308  \n",
       "21   0.797170  0.692308  \n",
       "22   0.754717  0.692308  \n",
       "23   0.542453  0.549451  "
      ]
     },
     "execution_count": 40,
     "metadata": {},
     "output_type": "execute_result"
    }
   ],
   "source": [
    "scores"
   ]
  },
  {
   "cell_type": "markdown",
   "metadata": {
    "id": "3pnv86BEV7_n"
   },
   "source": [
    "##### **Step 2**: Plot the training and testing accuracies, and store the values in a data frame called `scores`"
   ]
  },
  {
   "cell_type": "code",
   "execution_count": 41,
   "metadata": {
    "id": "YAWXCxu_MXSn",
    "scrolled": true
   },
   "outputs": [
    {
     "data": {
      "image/png": "[encoded data removed]",
      "text/plain": [
       "<Figure size 432x288 with 1 Axes>"
      ]
     },
     "metadata": {},
     "output_type": "display_data"
    }
   ],
   "source": [
    "plt.plot(ccp_alphas[:-1], train_acc[:-1], label='Train Mse')\n",
    "plt.plot(ccp_alphas[:-1], test_acc[:-1], label='Test Mse')\n",
    "plt.legend()\n",
    "plt.xlabel('CCP_alpha')\n",
    "plt.ylabel('Accuracy')\n",
    "plt.title('CCP_alpha vs Accuracy')\n",
    "plt.tight_layout()"
   ]
  },
  {
   "cell_type": "markdown",
   "metadata": {
    "id": "xEZXt6t7ZsOj"
   },
   "source": [
    "###### **Which is the best value of alpha? and why?**\n",
    "\n",
    "your answer here"
   ]
  },
  {
   "cell_type": "markdown",
   "metadata": {
    "id": "rb-SGtZC6LjA"
   },
   "source": [
    "###### Lets fit a model on the best_alpha value we obtained from the previous step, this will show us how much is the model pruned.\n",
    "\n",
    "Call this model **DT_test**"
   ]
  },
  {
   "cell_type": "code",
   "execution_count": 42,
   "metadata": {
    "id": "sXZLua-F0Boi"
   },
   "outputs": [
    {
     "name": "stdout",
     "output_type": "stream",
     "text": [
      "Best {'ccp_alpha': 0.014150943396226415} 0.8015503875968992\n",
      "Train Accuracy: 0.89\n",
      "Test Accuracy: 0.77\n",
      "Cross Val SCore: [0.86046512 0.81395349 0.73809524 0.85714286 0.73809524]\n"
     ]
    }
   ],
   "source": [
    "#fit the model with the best ccp_alpha value you got\n",
    "ccp_alpha = {\"ccp_alpha\": ccp_alpha_value}\n",
    "dtree = DecisionTreeClassifier(random_state=rf)\n",
    "DT_test = best_model(dtree, ccp_alpha, X_train, y_train)\n",
    "\n",
    "DT_test.fit(X_train, y_train)\n",
    "DT_test_train_acc = accuracy_score(y_train, DT_test.predict(X_train))\n",
    "DT_test_test_acc = accuracy_score(y_test,DT_test.predict(X_test))\n",
    "DT_test_cross_val = cross_val_score(DT_test, X_train, y_train, cv=5)\n",
    "\n",
    "\n",
    "print('Train Accuracy:',round(DT_test_train_acc,2))\n",
    "print('Test Accuracy:',round(DT_test_test_acc,2))\n",
    "print('Cross Val SCore:', DT_test_cross_val)"
   ]
  },
  {
   "cell_type": "code",
   "execution_count": 43,
   "metadata": {
    "id": "0c57q0C1z0kr"
   },
   "outputs": [],
   "source": [
    "#plot the tree to see the pruning\n",
    "#your code here"
   ]
  },
  {
   "cell_type": "code",
   "execution_count": 44,
   "metadata": {
    "id": "qAvRz_j_6-Ay"
   },
   "outputs": [
    {
     "data": {
      "image/png": "[encoded data removed]",
      "text/plain": [
       "<Figure size 432x288 with 2 Axes>"
      ]
     },
     "metadata": {},
     "output_type": "display_data"
    }
   ],
   "source": [
    "#plot the confusion matrix\n",
    "cm_model(DT_test, X_test, y_test, DT_test_test_acc)"
   ]
  },
  {
   "cell_type": "markdown",
   "metadata": {
    "id": "GnEmcDVw7ExX"
   },
   "source": [
    "###### **What do you notice here?**\n",
    "You see that the model performs slightly better,and is able to predict the true positives and false positives a little better than the base Decision tree model. \n",
    "\n",
    "We need to still get a much more accurate value of ccp_alpha to see a better pruned model. "
   ]
  },
  {
   "cell_type": "markdown",
   "metadata": {
    "id": "-sLJbr_ZMssg"
   },
   "source": [
    "##### Step 3: Cross Validate to find the **Best Alpha**"
   ]
  },
  {
   "cell_type": "markdown",
   "metadata": {
    "id": "Xsmh-7fzaMeu"
   },
   "source": [
    "Now that you know your best alpha. Can it be possible for a different training set your value of best alpha and accuracy can change? Lets check this!\n",
    "\n",
    "To do this we will use Cross validation, we will do 5-fold cross validation here. \n",
    "\n",
    "What we want to see here is, how accurate the tree is with different sets of training data, **while the alpha value remains the same**(i.e. Set the value of ccp_alpha same as the best value of alpha you got from the previous step)\n",
    "\n",
    "Plot tree vs accuracy. It should look something like this:\n",
    "\n",
    "![tree_accuracy.jpeg](https://drive.google.com/uc?export=view&id=15-u3_4Bp3piEFVmn8y6-wxCdKpuEHuTt)"
   ]
  },
  {
   "cell_type": "code",
   "execution_count": 45,
   "metadata": {
    "id": "YS7sE0Bdz20L"
   },
   "outputs": [
    {
     "data": {
      "image/png": "[encoded data removed]",
      "text/plain": [
       "<Figure size 432x288 with 1 Axes>"
      ]
     },
     "metadata": {},
     "output_type": "display_data"
    }
   ],
   "source": [
    "#use 5-fold cross validation to change the training set, plot the change in accuracy for each cross validated tree\n",
    "array = [0,1,2,3,4]\n",
    "plt.plot(array, DT_test_cross_val, label='accuracy')\n",
    "plt.xlabel('Tree')\n",
    "plt.ylabel('Cross val Score')\n",
    "plt.legend()\n",
    "plt.tight_layout()"
   ]
  },
  {
   "cell_type": "markdown",
   "metadata": {
    "id": "VKvObMq8WNv3"
   },
   "source": [
    "Hence this proves that we get different accuracies when we do cross validation, hence this also means we wil have different values of best alphas\n",
    "\n",
    "Now lets cross validate to find the best alpha\n",
    "* So from the dataframe we built to find the best alpha, find the **range of alpha** and the **step_size**. \n",
    "* Perform GridSearchCV for the range of alphas with step size. And from this we will find the best alpha value. \n",
    "\n"
   ]
  },
  {
   "cell_type": "code",
   "execution_count": 46,
   "metadata": {
    "id": "eF4lt6Zq_pbS"
   },
   "outputs": [],
   "source": [
    "#range of alphas\n",
    "from numpy import arange\n",
    "ccp_alpha_range = arange (0.003,0.06,0.0001)"
   ]
  },
  {
   "cell_type": "code",
   "execution_count": 47,
   "metadata": {
    "id": "jmak-QnQ_bTX"
   },
   "outputs": [
    {
     "name": "stdout",
     "output_type": "stream",
     "text": [
      "Best {'ccp_alpha': 0.013399999999999981} 0.8015503875968992\n"
     ]
    }
   ],
   "source": [
    "#hyper-parameter tuning and model fit\n",
    "ccp_alpha = {\"ccp_alpha\": ccp_alpha_range}\n",
    "dtree = DecisionTreeClassifier(random_state=rf)\n",
    "DT_pruned = best_model(dtree, ccp_alpha, X_train, y_train)"
   ]
  },
  {
   "cell_type": "code",
   "execution_count": 155,
   "metadata": {
    "id": "s6EiTB39AcUS"
   },
   "outputs": [],
   "source": [
    "#find the best parameter\n"
   ]
  },
  {
   "cell_type": "markdown",
   "metadata": {
    "id": "u4xRrmFqdgdM"
   },
   "source": [
    "What value of alpha is provided by the gridsearchcv?\n",
    "\n",
    "your answer here"
   ]
  },
  {
   "cell_type": "markdown",
   "metadata": {
    "id": "mkem9OuseDBS"
   },
   "source": [
    "Now lets get the `ideal_ccp_alpha` from the gridsearch"
   ]
  },
  {
   "cell_type": "code",
   "execution_count": 101,
   "metadata": {
    "id": "Vlp1WJYaeHS8"
   },
   "outputs": [],
   "source": [
    "ideal_ccp_alpha = 0.013399999999999981"
   ]
  },
  {
   "cell_type": "markdown",
   "metadata": {
    "id": "ufc8mvpIl2CB"
   },
   "source": [
    "##### Step 4: Fit a new Decision Tree called **DT_pruned**\n",
    "\n",
    "1. Fit a new Decision_Tree on the ideal_ccp_alpha value we got from the previous step, set the `random state = rf`\n",
    "2. Print the performance of the model(training and testing accuracy) using the accuracy function defined by you. \n",
    "3. Plot the confusion matrix to evaluate the model. \n",
    "4. Based on the confusion matrix and the accuracy - draw conclusions about the model\n",
    "5. Plot the Decision Tree built using sklearn's tree"
   ]
  },
  {
   "cell_type": "code",
   "execution_count": 48,
   "metadata": {
    "id": "5e3yEBYANJ--"
   },
   "outputs": [
    {
     "name": "stdout",
     "output_type": "stream",
     "text": [
      "Train Accuracy: 0.9\n",
      "Test Accuracy: 0.77\n",
      "Cross Val SCore: [0.86046512 0.81395349 0.73809524 0.85714286 0.73809524]\n"
     ]
    }
   ],
   "source": [
    "#fit the model\n",
    "DT_pruned.fit(X_train, y_train)\n",
    "DT_pruned_train_acc = accuracy_score(y_train, DT_pruned.predict(X_train))\n",
    "DT_pruned_test_acc = accuracy_score(y_test,DT_pruned.predict(X_test))\n",
    "DT_pruned_cross_val = cross_val_score(DT_pruned, X_train, y_train, cv=5)\n",
    "\n",
    "\n",
    "print('Train Accuracy:',round(DT_pruned_train_acc,2))\n",
    "print('Test Accuracy:',round(DT_pruned_test_acc,2))\n",
    "print('Cross Val SCore:', DT_pruned_cross_val)"
   ]
  },
  {
   "cell_type": "code",
   "execution_count": 49,
   "metadata": {
    "id": "jOUJokG8ylGv"
   },
   "outputs": [],
   "source": [
    "#plot the tree"
   ]
  },
  {
   "cell_type": "code",
   "execution_count": 50,
   "metadata": {
    "id": "Q5akz6ixNLwt"
   },
   "outputs": [
    {
     "data": {
      "image/png": "[encoded data removed]",
      "text/plain": [
       "<Figure size 432x288 with 2 Axes>"
      ]
     },
     "metadata": {},
     "output_type": "display_data"
    }
   ],
   "source": [
    "#plot the confusion matrix\n",
    "cm_model(DT_pruned, X_test, y_test, DT_pruned_test_acc)"
   ]
  },
  {
   "cell_type": "code",
   "execution_count": null,
   "metadata": {
    "id": "HtoUuq-iypEk"
   },
   "outputs": [],
   "source": [
    "#Performance\n",
    "#your code here"
   ]
  },
  {
   "cell_type": "markdown",
   "metadata": {
    "id": "6xULnXHxmtOf"
   },
   "source": [
    "###### What conclusions can you draw from the confusion matrix above? How different is this from the Basic Decision Tree Model defined by you\n",
    "\n",
    "your answer here\n"
   ]
  },
  {
   "cell_type": "markdown",
   "metadata": {
    "id": "7_lPN9Fs1uvd"
   },
   "source": [
    "#### 2.2.1.2 Pruning Single Decision Tree by Depth"
   ]
  },
  {
   "cell_type": "markdown",
   "metadata": {
    "id": "t964PlVHF0Rg"
   },
   "source": [
    "We fit here a single tree to our dataset and perform 5-fold cross validation on the training set. For **EACH depth of the tree, we fit a tree** and then compute the 5-fold CV scores. These scores are then averaged and compared across different depths."
   ]
  },
  {
   "cell_type": "markdown",
   "metadata": {
    "id": "ikW5g2yWjTKH"
   },
   "source": [
    "1. Write a code to cross validate for different depths( 5 fold cross validation) on the training set. Consider the value of `min_samples_split=10`\n",
    "\n",
    "2. Plot the cross validation accuracy against each depth. \n",
    "\n",
    "3. Based on the graph, chose the `best_depth`\n",
    "\n",
    "4. Using the value of `best_depth`, fit a new decision tree classifer, and check its training and testing accuracy and plot its confusion matrix"
   ]
  },
  {
   "cell_type": "code",
   "execution_count": 89,
   "metadata": {
    "id": "csDaZy_D1rhu"
   },
   "outputs": [],
   "source": [
    "#Find optimal depth of trees\n",
    "train_acc = []\n",
    "test_acc = []\n",
    "cross_val = []\n",
    "tree_start, tree_end = 1,20\n",
    "depths = range(tree_start, tree_end)\n",
    "for i in range(tree_start, tree_end):\n",
    "    dtsin = DecisionTreeClassifier(max_depth=i, min_samples_split= 10, random_state=42)\n",
    "    dtsin.fit(X_train, y_train)\n",
    "    sort_x_train, sort_y_predtrain = zip(*sorted(zip( X_train, dtsin.predict( X_train))))\n",
    "    train_acc.append(accuracy_score(y_train, dtsin.predict(X_train) ))\n",
    "    test_acc.append(accuracy_score(y_test, dtsin.predict(X_test)))\n",
    "    cross_val.append(np.mean(cross_val_score(dtsin, X_train, y_train, cv=5)))"
   ]
  },
  {
   "cell_type": "code",
   "execution_count": 90,
   "metadata": {},
   "outputs": [
    {
     "data": {
      "image/png": "[encoded data removed]",
      "text/plain": [
       "<Figure size 432x288 with 1 Axes>"
      ]
     },
     "metadata": {},
     "output_type": "display_data"
    }
   ],
   "source": [
    "plt.plot(range(tree_start, tree_end), cross_val, label ='Cross Val Average')\n",
    "plt.plot(range(tree_start, tree_end), train_acc, label = 'Train Accuracy')\n",
    "plt.plot(range(tree_start, tree_end), test_acc, label = 'Test Accuracy')\n",
    "plt.xlabel('Max Depth')\n",
    "plt.ylabel('Accuracy Score')\n",
    "plt.legend()\n",
    "plt.tight_layout()"
   ]
  },
  {
   "cell_type": "markdown",
   "metadata": {
    "id": "XYk9AgMcHPIo"
   },
   "source": [
    "##### What is the optimal depth according to you from the graph above. \n",
    "\n"
   ]
  },
  {
   "cell_type": "code",
   "execution_count": 92,
   "metadata": {
    "id": "DHeukSwrHLQf"
   },
   "outputs": [
    {
     "name": "stdout",
     "output_type": "stream",
     "text": [
      "Best depth for decision Tree with min_sample_split =10 is, 3\n"
     ]
    }
   ],
   "source": [
    "#Make 'best_depth' a variable\n",
    "index_best_depth = cross_val.index(max(cross_val))\n",
    "best_depth = depths[index_best_depth]\n",
    "print('Best depth for decision Tree with min_sample_split =10 is,',best_depth)"
   ]
  },
  {
   "cell_type": "markdown",
   "metadata": {
    "id": "GlJh-0zbn4mn"
   },
   "source": [
    "##### Set the max_depth as best_depth obtained in previous part\n",
    "\n",
    "1. Set the max_depth as best_depth obtained in previous part, and fit the model, set the `random_state = rf`. Call this model **DT_max_depth**\n",
    "2. Print the performance of the model(training and testing accuracy) using the accuracy function defined by you. \n",
    "3. Plot the confusion matrix to evaluate the model. \n",
    "4. Based on the confusion matrix and the accuracy \n",
    "5. Plot the Decision Tree built using sklearn's tree\n"
   ]
  },
  {
   "cell_type": "code",
   "execution_count": 93,
   "metadata": {
    "id": "EkW3j2H7HV4k"
   },
   "outputs": [
    {
     "data": {
      "text/plain": [
       "DecisionTreeClassifier(max_depth=3, min_samples_split=10, random_state=42)"
      ]
     },
     "execution_count": 93,
     "metadata": {},
     "output_type": "execute_result"
    }
   ],
   "source": [
    "#fit the model\n",
    "DT_max_depth = DecisionTreeClassifier(max_depth=best_depth, min_samples_split= 10, random_state=42)\n",
    "DT_max_depth.fit(X_train, y_train)"
   ]
  },
  {
   "cell_type": "code",
   "execution_count": 99,
   "metadata": {
    "id": "CJNJsHTKHgYD"
   },
   "outputs": [
    {
     "name": "stdout",
     "output_type": "stream",
     "text": [
      "Train accuracy: 0.8679245283018868\n",
      "Test Accuracy: 0.7692307692307693\n"
     ]
    }
   ],
   "source": [
    "#Performance\n",
    "DT_max_depth_test_acc =accuracy_score(y_test, DT_max_depth.predict(X_test))\n",
    "print('Train accuracy:', accuracy_score(y_train, DT_max_depth.predict(X_train)))\n",
    "print('Test Accuracy:', accuracy_score(y_test, DT_max_depth.predict(X_test)))"
   ]
  },
  {
   "cell_type": "code",
   "execution_count": 100,
   "metadata": {
    "id": "zQaNdTCGHsbf"
   },
   "outputs": [
    {
     "data": {
      "image/png": "[encoded data removed]",
      "text/plain": [
       "<Figure size 432x288 with 2 Axes>"
      ]
     },
     "metadata": {},
     "output_type": "display_data"
    }
   ],
   "source": [
    "#confusion matrix\n",
    "cm_model(DT_pruned, X_test, y_test, DT_max_depth_test_acc)"
   ]
  },
  {
   "cell_type": "code",
   "execution_count": null,
   "metadata": {
    "id": "3n60bAci2BWm"
   },
   "outputs": [],
   "source": [
    "#plot the tree\n",
    "#your code here"
   ]
  },
  {
   "cell_type": "markdown",
   "metadata": {
    "id": "Gj7vjg2q0cq1"
   },
   "source": [
    "#### 2.2.2 Comparing Decision Tree models\n",
    "\n",
    "Of the three Models built - Decision tree, DT_pruned(with idea_ccp_alpha) and DT_max_depth(with best_depth) which Model performs better and why?\n",
    "\n",
    "your answer here"
   ]
  },
  {
   "cell_type": "markdown",
   "metadata": {
    "id": "B363lqGF4ZsX"
   },
   "source": [
    "### 2.3 Bagging Tree Model **(10 marks)**"
   ]
  },
  {
   "cell_type": "markdown",
   "metadata": {
    "id": "V79mC9eaOPVU"
   },
   "source": [
    "Whats the basic idea?\n",
    "\n",
    "A Single Decision tree is likely to overfit as seen previously.\n",
    "So lets introduce replication through Bootstrap sampling.\n",
    "Bagging uses bootstrap resampling to create different training datasets. This way each training will give us a different tree."
   ]
  },
  {
   "cell_type": "markdown",
   "metadata": {
    "id": "TvirO6Nc4dAr"
   },
   "source": [
    "\n",
    "1. Provide the `model` as baggingclassifer with `random state = rf`\n",
    "2. Set the `bagging parameters` - `n_estimators` to be a range from 30 to 150.\n",
    "3. Pass the `bagging parameters` and `model` to the `GridSearchCV` and set the `cv = 10` and `scoring = 'accuracy'`\n",
    "4. Fit the model\n",
    "5. Find the testing and training accuracy\n",
    "6. Plot the confusion matrix"
   ]
  },
  {
   "cell_type": "code",
   "execution_count": 106,
   "metadata": {
    "id": "zOUU-gpo4kPN"
   },
   "outputs": [
    {
     "name": "stdout",
     "output_type": "stream",
     "text": [
      "Best {'n_estimators': 50} 0.8155844155844155\n"
     ]
    },
    {
     "data": {
      "text/plain": [
       "BaggingClassifier(base_estimator=DecisionTreeClassifier(ccp_alpha=0.013399999999999981,\n",
       "                                                        max_depth=3),\n",
       "                  n_estimators=50, n_jobs=-1, random_state=42)"
      ]
     },
     "execution_count": 106,
     "metadata": {},
     "output_type": "execute_result"
    }
   ],
   "source": [
    "#Hyper-parameter tuning\n",
    "bagging = BaggingClassifier(base_estimator=DecisionTreeClassifier(max_depth=best_depth, ccp_alpha= ideal_ccp_alpha), n_jobs=-1, random_state=42)\n",
    "list_n_estimators = range(30,150)\n",
    "n_estimators = {\"n_estimators\": list_n_estimators}\n",
    "best_model(bagging,n_estimators, X_train, y_train, n_folds=10 )"
   ]
  },
  {
   "cell_type": "code",
   "execution_count": null,
   "metadata": {
    "id": "JxRrqp1v4mR3"
   },
   "outputs": [],
   "source": [
    "#Print the best parameters\n",
    "#your code here"
   ]
  },
  {
   "cell_type": "code",
   "execution_count": 108,
   "metadata": {
    "id": "KSOjRRgs4ofq"
   },
   "outputs": [
    {
     "name": "stdout",
     "output_type": "stream",
     "text": [
      "Train Accuracy: 0.9\n",
      "Test Accuracy: 0.82\n",
      "Cross Val SCore: [0.8372093  0.76744186 0.80952381 0.92857143 0.73809524]\n"
     ]
    }
   ],
   "source": [
    "#Performance\n",
    "best_bagging = BaggingClassifier(n_estimators=50, base_estimator=DecisionTreeClassifier(max_depth=best_depth, ccp_alpha= ideal_ccp_alpha), n_jobs=-1, random_state=42)\n",
    "best_bagging.fit(X_train, y_train)\n",
    "best_bagging_train_acc = accuracy_score(y_train, best_bagging.predict(X_train))\n",
    "best_bagging_test_acc = accuracy_score(y_test,best_bagging.predict(X_test))\n",
    "best_bagging_cross_val = cross_val_score(best_bagging, X_train, y_train, cv=5)\n",
    "\n",
    "\n",
    "print('Train Accuracy:',round(best_bagging_train_acc,2))\n",
    "print('Test Accuracy:',round(best_bagging_test_acc,2))\n",
    "print('Cross Val SCore:', best_bagging_cross_val)"
   ]
  },
  {
   "cell_type": "code",
   "execution_count": 109,
   "metadata": {
    "id": "2eUUBrEn4qFn"
   },
   "outputs": [
    {
     "data": {
      "image/png": "[encoded data removed]",
      "text/plain": [
       "<Figure size 432x288 with 2 Axes>"
      ]
     },
     "metadata": {},
     "output_type": "display_data"
    }
   ],
   "source": [
    "#plot confusion matrix\n",
    "cm_model(best_bagging, X_test, y_test, best_bagging_test_acc)"
   ]
  },
  {
   "cell_type": "markdown",
   "metadata": {
    "id": "Z4Gu1uUHPL_8"
   },
   "source": [
    "Does this perform better than Decision Tree?\n",
    "\n",
    "your answer here"
   ]
  },
  {
   "cell_type": "markdown",
   "metadata": {
    "id": "wVpkgV6a5CLV"
   },
   "source": [
    "### 2.4 Random Forest **(15 marks)**"
   ]
  },
  {
   "cell_type": "markdown",
   "metadata": {
    "id": "WJA-i6WeOvDY"
   },
   "source": [
    "What's the basic idea?\n",
    "\n",
    "Bagging alone is not enough randomization, because even after bootstrapping, we are mainly training on the same data points using the same variables, and will retain much of the overfitting.\n",
    "\n",
    "So we will build each tree by splitting on **\"random\"** subset of predictors at each split (hence, each is a 'random tree'). This can't be done in with just one predictor, but with more predictors we can choose what predictors to split on randomly and how many to do this on. Then we combine many 'random trees' together by averaging their predictions, and this gets us a forest of random trees: a random forest.\n",
    "\n",
    "Below we create a hyper-param Grid(GridSearchCV). Things to remember:\n",
    "\n",
    "* `max_features` : int, float, string or None, optional (default=”auto”)\n",
    "  * The number of features to consider when looking for the best split. \n",
    "\n",
    "Steps to follow\n",
    "1. Provide the `model` as `RandomForestclassifer` with `random state = rf`\n",
    "2. Set the Rf parameters - `n_estimators`, `max_depth`, `max_features` and `min_samples_split`. - Chose the range to be what you think is suitable.\n",
    "3. Pass the Rf parameters and model to the GridSearchCV and set the `cv = 10` and `scoring = 'accuracy'`. Call this model RF_model\n",
    "4. Fit the model\n",
    "5. Find the testing and training accuracy\n",
    "6. Plot the confusion matrix"
   ]
  },
  {
   "cell_type": "code",
   "execution_count": 110,
   "metadata": {
    "id": "62qlbZdWAl90"
   },
   "outputs": [],
   "source": [
    "#define the model, param_grid and fit the model\n",
    "list_n_estimators = [100,150,200,250,300,350,400]\n",
    "max_depth = list(range(2,8))\n",
    "max_features = list(range(2,8))\n",
    "min_samples_split = list(range(2,8))\n",
    "\n",
    "rf_parameters = {\"n_estimators\": list_n_estimators, 'max_depth': max_depth,'max_features':max_features,'min_samples_split':min_samples_split}"
   ]
  },
  {
   "cell_type": "code",
   "execution_count": 112,
   "metadata": {},
   "outputs": [],
   "source": [
    "rf_model=RandomForestClassifier(warm_start=True,random_state=rf,n_jobs=-1)"
   ]
  },
  {
   "cell_type": "code",
   "execution_count": 113,
   "metadata": {
    "id": "Qiq3feNv5IlN"
   },
   "outputs": [
    {
     "name": "stdout",
     "output_type": "stream",
     "text": [
      "Best {'max_depth': 7, 'max_features': 2, 'min_samples_split': 2, 'n_estimators': 150} 0.8580086580086579\n"
     ]
    }
   ],
   "source": [
    "#Print the best parameters\n",
    "best_rf = best_model(rf_model, rf_parameters, X_train, y_train, n_folds =10)"
   ]
  },
  {
   "cell_type": "code",
   "execution_count": 116,
   "metadata": {
    "id": "zL3O_IJs5KXR"
   },
   "outputs": [
    {
     "name": "stderr",
     "output_type": "stream",
     "text": [
      "/Users/harshvardhan/opt/anaconda3/lib/python3.7/site-packages/sklearn/ensemble/_forest.py:368: UserWarning: Warm-start fitting without increasing n_estimators does not fit new trees.\n",
      "  warn(\"Warm-start fitting without increasing n_estimators does not \"\n"
     ]
    },
    {
     "name": "stdout",
     "output_type": "stream",
     "text": [
      "0.9858490566037735 0.8351648351648352\n"
     ]
    }
   ],
   "source": [
    "#Performance\n",
    "#your code here\n",
    "best_rf.fit(X_train, y_train)\n",
    "best_rf_train_acc = accuracy_score(y_train, best_rf.predict(X_train))\n",
    "best_rf_test_acc = accuracy_score(y_test, best_rf.predict(X_test))\n",
    "print(best_rf_train_acc, best_rf_test_acc)"
   ]
  },
  {
   "cell_type": "code",
   "execution_count": 117,
   "metadata": {
    "id": "6futWe-N5MW0"
   },
   "outputs": [
    {
     "data": {
      "image/png": "[encoded data removed]",
      "text/plain": [
       "<Figure size 432x288 with 2 Axes>"
      ]
     },
     "metadata": {},
     "output_type": "display_data"
    }
   ],
   "source": [
    "#plot the confusion matrix\n",
    "cm_model(best_rf, X_test, y_test, best_rf_test_acc)"
   ]
  },
  {
   "cell_type": "markdown",
   "metadata": {
    "id": "PQwaiVHR5TW5"
   },
   "source": [
    "#### 2.4.1 Permutance Importance \n",
    "\n",
    "Comparison between Bagging model and Random Forest Model"
   ]
  },
  {
   "cell_type": "markdown",
   "metadata": {
    "id": "NonBngZJlfxu"
   },
   "source": [
    "1. Define a function to plot the permutance importance.\n",
    "2. Next call the sklearn function permutance importance and pass the Random Forest and Bagging model to it.\n",
    "3. Using the plotting function defined in step 1, compare the permutance importance plots for both the models"
   ]
  },
  {
   "cell_type": "code",
   "execution_count": null,
   "metadata": {
    "id": "G5aCDcOQLJ-q"
   },
   "outputs": [],
   "source": [
    "def p_importance(model, cols, fi, fistd = 0):\n",
    "    return pd.DataFrame({'features':cols, 'importance':fi, 'importance_std': fistd}\n",
    "                       ).sort_values('importance', ascending=False)"
   ]
  },
  {
   "cell_type": "code",
   "execution_count": null,
   "metadata": {
    "id": "KjP9F4pKLIyZ"
   },
   "outputs": [],
   "source": [
    "# find permutation importance for Bagging and Random Forest models\n",
    "#your code here"
   ]
  },
  {
   "cell_type": "code",
   "execution_count": null,
   "metadata": {
    "id": "HBKBxFXYLF1U"
   },
   "outputs": [],
   "source": [
    "#plot the permutance importance using the function define above\n",
    "#your code here"
   ]
  },
  {
   "cell_type": "markdown",
   "metadata": {
    "id": "Bh8t6QPCHl-l"
   },
   "source": [
    "#### 2.4.2 Out of Bag Score"
   ]
  },
  {
   "cell_type": "markdown",
   "metadata": {
    "id": "hUU-rywbsaZa"
   },
   "source": [
    "Out of bag (OOB) score is a way of validating the Random forest model."
   ]
  },
  {
   "cell_type": "markdown",
   "metadata": {
    "id": "P9mUxz0-PA2U"
   },
   "source": [
    "We'll now engage in our very own version of a grid-search, done over the out-of-bag scores that sklearn gives us for free. \n",
    "\n",
    "1. Set the values for `n_estimators` and `max_features`,` max_depth` and `min_samples_split` in a `param_dict`\n",
    "2. Create two lists - results and estimators\n",
    "  * `results` will store the `oob_score` for each tree you fit\n",
    "  * `estimators` will score the parameters for each tree\n",
    "3. Run your model through values of the `param_dict`\n",
    "4. Get the best value of oob_score from results, and assign that to `outparams` variable\n",
    "5. Get the best estimator from the `outparams` for the best `oob_score`\n",
    "6. Check the accuracy of the model(best_estimator)\n",
    "7. Plot the confusion matrix\n"
   ]
  },
  {
   "cell_type": "code",
   "execution_count": null,
   "metadata": {
    "id": "5O9-jnpJVCRa"
   },
   "outputs": [],
   "source": [
    "from itertools import product\n",
    "from collections import OrderedDict\n",
    "#setting the depth and min_samples_split and max_features\n",
    "#your code here\n",
    "param_dict = OrderedDict('n_estimators' = ________, 'max_features' = ________, 'min_samples_split' = _________)\n",
    "param_dict.values()"
   ]
  },
  {
   "cell_type": "code",
   "execution_count": null,
   "metadata": {
    "id": "YAMN87a7VMg4"
   },
   "outputs": [],
   "source": [
    "results = {}\n",
    "estimators= {}\n",
    "#your code here"
   ]
  },
  {
   "cell_type": "code",
   "execution_count": null,
   "metadata": {
    "id": "qGMAMsGtHPmJ"
   },
   "outputs": [],
   "source": [
    "#Call the best estimator from the previous loop of estimators for outparams as Random_Oob\n",
    "#your code here\n",
    "Random_Oob = ___________"
   ]
  },
  {
   "cell_type": "code",
   "execution_count": null,
   "metadata": {
    "id": "4IrsmErYHZIf"
   },
   "outputs": [],
   "source": [
    "#Performance\n",
    "#your code here"
   ]
  },
  {
   "cell_type": "code",
   "execution_count": null,
   "metadata": {
    "id": "I42_8WQ2HfL_"
   },
   "outputs": [],
   "source": [
    "#Plot the confusion matrix \n",
    "#your code here"
   ]
  },
  {
   "cell_type": "markdown",
   "metadata": {
    "id": "76ijoYIePt8D"
   },
   "source": [
    "##### Comparing OOB_score with Random Forest cross validation \n",
    "\n",
    "In the beginning of section 2.4 you found the best parameters to set for your RandomForest Classifer in the **RF_model**.\n",
    "\n",
    "In this step, build a model call it RF_compare, and set the parameters same as the best params you got from **RF_model** and also set the **oob_score as true**. \n",
    "Compare the results you get from this model against the base model you had for Randomforest"
   ]
  },
  {
   "cell_type": "code",
   "execution_count": null,
   "metadata": {
    "id": "lIlF_nvfQf3v"
   },
   "outputs": [],
   "source": [
    "#define the model, set the best parameters and oob_score = true\n",
    "#your code here"
   ]
  },
  {
   "cell_type": "code",
   "execution_count": null,
   "metadata": {
    "id": "xKSiHl6sQf30"
   },
   "outputs": [],
   "source": [
    "#Performance\n",
    "#your code here"
   ]
  },
  {
   "cell_type": "code",
   "execution_count": null,
   "metadata": {
    "id": "PqbbchEkQf30"
   },
   "outputs": [],
   "source": [
    "#plot the confusion matrix\n",
    "#your code here"
   ]
  },
  {
   "cell_type": "markdown",
   "metadata": {
    "id": "p-sc8Jw4QqE6"
   },
   "source": [
    "###### Does your **RF_compare** model perform better or worse than the cross validated model - **RF_model**? Do you think its necessary to cross validate for a random forest?\n",
    "\n",
    "your answer here"
   ]
  },
  {
   "cell_type": "markdown",
   "metadata": {
    "id": "F_HB3eZsGrB8"
   },
   "source": [
    "### 2.5 Boosting Tree **(10 marks)**"
   ]
  },
  {
   "cell_type": "markdown",
   "metadata": {
    "id": "272B092KreZv"
   },
   "source": [
    "Adaboost Classification, is a special case of a gradient-boosted algorithm. Gradient Boosting is very state of the art, and has major connections to logistic regression, gradient descent in a functional space, and search in information space.\n",
    "\n",
    "The idea is that we will use a bunch of weak 'learners' (aka, models) which are fit sequentially. The first one fits the signal, the second one the first model's residual, the third the second model's residual, and so on. At each stage we upweight the places that our previous model did badly on. \n",
    "\n",
    "Things to remember:\n",
    "* `n_estimators` is the number of trees, and thus the stage in the fitting. It also controls the complexity for us. The more trees we have the more we fit to the tiny details.\n",
    "*`learning_rate` Learning rate shrinks the contribution of each classifier by learning_rate. There is a trade-off between learning_rate and n_estimators."
   ]
  },
  {
   "cell_type": "markdown",
   "metadata": {
    "id": "BsBrhPjCnQjZ"
   },
   "source": [
    "Steps to follow\n",
    "1. Provide the model as AdaBoostclassifer with `random state = rf`\n",
    "2. Set the boosting parameters - boost__n_estimators to be a range from 10 to 120. and `\"boost__learning_rate\":[0.001,0.01,0.1,0.2, 0.5,1,1.2,1.5]`\n",
    "3. Pass the bagging parameters and pipeline to GridSearchCV and set the `cv = 10` and `scoring = 'accuracy'`\n",
    "4. Fit the model\n",
    "5. Find the best hyperparameters, testing and training accuracy\n",
    "6. Plot the confusion matrix\n"
   ]
  },
  {
   "cell_type": "code",
   "execution_count": null,
   "metadata": {
    "id": "zWGp4mr2bM01"
   },
   "outputs": [],
   "source": [
    "#Build an adaboost pipe\n",
    "#your code here"
   ]
  },
  {
   "cell_type": "code",
   "execution_count": null,
   "metadata": {
    "id": "IeQFvSjBbQGg"
   },
   "outputs": [],
   "source": [
    "#Print the best hyperparameters\n",
    "#your code here"
   ]
  },
  {
   "cell_type": "code",
   "execution_count": null,
   "metadata": {
    "id": "OOiQYAIMG9mP"
   },
   "outputs": [],
   "source": [
    "#Performance\n",
    "#your code here"
   ]
  },
  {
   "cell_type": "code",
   "execution_count": null,
   "metadata": {
    "id": "MvjlS7c9IJa7"
   },
   "outputs": [],
   "source": [
    "#plot the confusion matrix\n",
    "#your code here"
   ]
  },
  {
   "cell_type": "markdown",
   "metadata": {
    "id": "AFsD6kCSH_wH"
   },
   "source": [
    "### 2.6 XGboost **(10 marks)**"
   ]
  },
  {
   "cell_type": "markdown",
   "metadata": {
    "id": "7BmSOhp5sAq1"
   },
   "source": [
    "XGBoost is an optimized distributed gradient boosting library designed to be highly efficient, flexible and portable. It implements machine learning algorithms under the Gradient Boosting framework. To read more about XGBoost, click [here](https://xgboost.readthedocs.io/en/latest/)"
   ]
  },
  {
   "cell_type": "markdown",
   "metadata": {
    "id": "hArj4Pskn-By"
   },
   "source": [
    "Steps to follow\n",
    "\n",
    "1. Set the classifer as XGBClassifer \n",
    "2. Set the xgb_parameters - n_estimators to be a range from [10,20,30,40,50,60,70,80,90,100,120,130,140,150]. and `'learning_rate': [0.001, 0.01, .1,.4, .45, .5, .55, .6]`\n",
    "3. Pass the xgb_parameters to RandomizedSearchCV and set the cv = 10 and `scoring = 'accuracy'` and `n_iter = 100`\n",
    "4. Fit the model\n",
    "5. Find the best hyperparameters, testing and training accuracy\n",
    "6. Plot the confusion matrix"
   ]
  },
  {
   "cell_type": "code",
   "execution_count": null,
   "metadata": {
    "id": "YBxOiS5JIFhc"
   },
   "outputs": [],
   "source": [
    "import xgboost as xgb"
   ]
  },
  {
   "cell_type": "code",
   "execution_count": null,
   "metadata": {
    "id": "_bswKQIiTLdc"
   },
   "outputs": [],
   "source": [
    "#assign the XGB_Classifer\n",
    "#your code here"
   ]
  },
  {
   "cell_type": "code",
   "execution_count": null,
   "metadata": {
    "id": "I7MI7w7KII9f"
   },
   "outputs": [],
   "source": [
    "#set parameters\n",
    "#your code here"
   ]
  },
  {
   "cell_type": "code",
   "execution_count": null,
   "metadata": {
    "id": "8ZaXfrigQxC-"
   },
   "outputs": [],
   "source": [
    "#pass the parameters to the model and fit the model\n",
    "#your code here"
   ]
  },
  {
   "cell_type": "code",
   "execution_count": null,
   "metadata": {
    "id": "LdSyHngMIJL3"
   },
   "outputs": [],
   "source": [
    "#get the best parameter values\n",
    "#your code here"
   ]
  },
  {
   "cell_type": "code",
   "execution_count": null,
   "metadata": {
    "id": "PAV0X4WgJBDo"
   },
   "outputs": [],
   "source": [
    "#Performance\n",
    "#your code here"
   ]
  },
  {
   "cell_type": "code",
   "execution_count": null,
   "metadata": {
    "id": "Dev5W7oZIGrt"
   },
   "outputs": [],
   "source": [
    "#plot the confusion matrix \n",
    "#your code here"
   ]
  },
  {
   "cell_type": "markdown",
   "metadata": {
    "id": "fESTBzaYOTFh"
   },
   "source": [
    "## Part 3: Comparing all models **(10 marks)**"
   ]
  },
  {
   "cell_type": "markdown",
   "metadata": {
    "id": "PFIQNiXP3Rrq"
   },
   "source": [
    "Now that we have built all these models lets compare them:\n",
    "\n",
    "1. Plot all the testing accuracies for all the models - Logistic Regression Model, Decision Tree baseline, Decision tree with ideal_alpha, Decision tree with best depth, Bagging model, Random Forest model, Random Forest with oob_score = true, Boosting Model, XGBoost model\n",
    "\n",
    "2. Plot the overfitting accuracies for all the models - train accuracy - test accuracy\n",
    "\n",
    "3. Plot the confusion matrix for the all the models\n",
    "\n",
    "4. Based on these plots draw a conclusion for which is the best and worst performing model."
   ]
  },
  {
   "cell_type": "code",
   "execution_count": null,
   "metadata": {
    "id": "1tHSlofsbRVl"
   },
   "outputs": [],
   "source": [
    "#Comparing performance of all models - testing accuracy\n",
    "#your code here"
   ]
  },
  {
   "cell_type": "code",
   "execution_count": null,
   "metadata": {
    "id": "pVyZ6t_YxOb6"
   },
   "outputs": [],
   "source": [
    "#overfitting \n",
    "#your code here"
   ]
  },
  {
   "cell_type": "code",
   "execution_count": null,
   "metadata": {
    "id": "B2ijGNCjxP2R"
   },
   "outputs": [],
   "source": [
    "#confusion matrix\n",
    "#your code here"
   ]
  },
  {
   "cell_type": "markdown",
   "metadata": {
    "id": "5h8ldyvmpnBT"
   },
   "source": [
    "#### **Which is the best and worse model?**\n",
    "\n",
    "your answer here"
   ]
  },
  {
   "cell_type": "markdown",
   "metadata": {
    "id": "ZUNRUcfd4HpG"
   },
   "source": [
    "## Bonus Question **(20 marks)**\n",
    "The dataset provided to you is already preprocessed - all variables are already one-hot encoded. \n",
    "\n",
    "Sklearn requires all its categorical variables to be one-hot encoded. But tree based methods work best with **ordinal encoding**. \n",
    "Get the original data from [here](http://archive.ics.uci.edu/ml/datasets/heart+disease), and ordinal encode the variables. Run one of the tree models to check how ordinal encoding is better. "
   ]
  },
  {
   "cell_type": "code",
   "execution_count": null,
   "metadata": {
    "id": "ur5udiu0x0QV"
   },
   "outputs": [],
   "source": []
  }
 ],
 "metadata": {
  "accelerator": "GPU",
  "colab": {
   "collapsed_sections": [
    "qkRlyqZTz4CJ",
    "X0xOsPAh0NI7",
    "K8Bnn7qe1ESn",
    "VOJ6cAUzzIyX",
    "w37B2HifeZjm",
    "N_sIHuKbmLfi",
    "6QZV2RGN6ZB8",
    "TPNUF_RFBDK3",
    "UQPS4R_XFgmj",
    "pc9odd-eLzBm",
    "4fTrnp7zQMsq",
    "dPbpzXXmh7R2",
    "-5_BDEbNMR5a",
    "xEZXt6t7ZsOj",
    "GnEmcDVw7ExX",
    "6xULnXHxmtOf",
    "B363lqGF4ZsX",
    "F_HB3eZsGrB8",
    "AFsD6kCSH_wH",
    "fESTBzaYOTFh"
   ],
   "name": "distribute_HW1",
   "provenance": [],
   "toc_visible": true
  },
  "kernelspec": {
   "display_name": "Python 3",
   "language": "python",
   "name": "python3"
  },
  "language_info": {
   "codemirror_mode": {
    "name": "ipython",
    "version": 3
   },
   "file_extension": ".py",
   "mimetype": "text/x-python",
   "name": "python",
   "nbconvert_exporter": "python",
   "pygments_lexer": "ipython3",
   "version": "3.7.6"
  }
 },
 "nbformat": 4,
 "nbformat_minor": 1
}
